{
  "metadata": {
    "kernelspec": {
      "language": "python",
      "display_name": "Python 3",
      "name": "python3"
    },
    "language_info": {
      "name": "python",
      "version": "3.10.12",
      "mimetype": "text/x-python",
      "codemirror_mode": {
        "name": "ipython",
        "version": 3
      },
      "pygments_lexer": "ipython3",
      "nbconvert_exporter": "python",
      "file_extension": ".py"
    },
    "colab": {
      "provenance": [],
      "include_colab_link": true
    }
  },
  "nbformat_minor": 0,
  "nbformat": 4,
  "cells": [
    {
      "cell_type": "markdown",
      "metadata": {
        "id": "view-in-github",
        "colab_type": "text"
      },
      "source": [
        "<a href=\"https://colab.research.google.com/github/mohamedatef773/Projects-/blob/main/chatbot_therapist_(1).ipynb\" target=\"_parent\"><img src=\"https://colab.research.google.com/assets/colab-badge.svg\" alt=\"Open In Colab\"/></a>"
      ]
    },
    {
      "cell_type": "code",
      "source": [
        "import json\n",
        "\n",
        "with open('/content/intents[1].json', 'r') as f:\n",
        "    data = json.load(f)\n",
        "\n",
        "df = pd.DataFrame(data['intents'])"
      ],
      "metadata": {
        "execution": {
          "iopub.status.busy": "2023-09-17T13:50:41.190602Z",
          "iopub.execute_input": "2023-09-17T13:50:41.191556Z",
          "iopub.status.idle": "2023-09-17T13:50:41.202010Z",
          "shell.execute_reply.started": "2023-09-17T13:50:41.191521Z",
          "shell.execute_reply": "2023-09-17T13:50:41.200734Z"
        },
        "trusted": true,
        "id": "cvpaPzFxdnOf"
      },
      "execution_count": 5,
      "outputs": []
    },
    {
      "cell_type": "code",
      "source": [
        "pd.options.display.max_colwidth=None\n",
        "df.head()"
      ],
      "metadata": {
        "execution": {
          "iopub.status.busy": "2023-09-17T13:50:41.203300Z",
          "iopub.execute_input": "2023-09-17T13:50:41.204061Z",
          "iopub.status.idle": "2023-09-17T13:50:41.220817Z",
          "shell.execute_reply.started": "2023-09-17T13:50:41.204024Z",
          "shell.execute_reply": "2023-09-17T13:50:41.219622Z"
        },
        "trusted": true,
        "colab": {
          "base_uri": "https://localhost:8080/",
          "height": 223
        },
        "id": "H4ftjEBpdnOf",
        "outputId": "74c864ed-763f-4b2a-a576-73d052ae116e"
      },
      "execution_count": 6,
      "outputs": [
        {
          "output_type": "execute_result",
          "data": {
            "text/plain": [
              "         tag  \\\n",
              "0   greeting   \n",
              "1    morning   \n",
              "2  afternoon   \n",
              "3    evening   \n",
              "4      night   \n",
              "\n",
              "                                                                                                    patterns  \\\n",
              "0  [Hi, Hey, Is anyone there?, Hi there, Hello, Hey there, Howdy, Hola, Bonjour, Konnichiwa, Guten tag, Ola]   \n",
              "1                                                                                             [Good morning]   \n",
              "2                                                                                           [Good afternoon]   \n",
              "3                                                                                             [Good evening]   \n",
              "4                                                                                               [Good night]   \n",
              "\n",
              "                                                                                                                                                                                                                                                      responses  \n",
              "0  [Hello there. Tell me how are you feeling today?, Hi there. What brings you here today?, Hi there. How are you feeling today?, Great to see you. How do you feel currently?, Hello there. Glad to see you're back. What's going on in your world right now?]  \n",
              "1                                                                                                                                                                              [Good morning. I hope you had a good night's sleep. How are you feeling today? ]  \n",
              "2                                                                                                                                                                                                                      [Good afternoon. How is your day going?]  \n",
              "3                                                                                                                                                                                                                        [Good evening. How has your day been?]  \n",
              "4                                                                                                                                                                                                [Good night. Get some proper sleep, Good night. Sweet dreams.]  "
            ],
            "text/html": [
              "\n",
              "  <div id=\"df-8a418b3f-ffd0-450a-97f2-69ebc210837b\" class=\"colab-df-container\">\n",
              "    <div>\n",
              "<style scoped>\n",
              "    .dataframe tbody tr th:only-of-type {\n",
              "        vertical-align: middle;\n",
              "    }\n",
              "\n",
              "    .dataframe tbody tr th {\n",
              "        vertical-align: top;\n",
              "    }\n",
              "\n",
              "    .dataframe thead th {\n",
              "        text-align: right;\n",
              "    }\n",
              "</style>\n",
              "<table border=\"1\" class=\"dataframe\">\n",
              "  <thead>\n",
              "    <tr style=\"text-align: right;\">\n",
              "      <th></th>\n",
              "      <th>tag</th>\n",
              "      <th>patterns</th>\n",
              "      <th>responses</th>\n",
              "    </tr>\n",
              "  </thead>\n",
              "  <tbody>\n",
              "    <tr>\n",
              "      <th>0</th>\n",
              "      <td>greeting</td>\n",
              "      <td>[Hi, Hey, Is anyone there?, Hi there, Hello, Hey there, Howdy, Hola, Bonjour, Konnichiwa, Guten tag, Ola]</td>\n",
              "      <td>[Hello there. Tell me how are you feeling today?, Hi there. What brings you here today?, Hi there. How are you feeling today?, Great to see you. How do you feel currently?, Hello there. Glad to see you're back. What's going on in your world right now?]</td>\n",
              "    </tr>\n",
              "    <tr>\n",
              "      <th>1</th>\n",
              "      <td>morning</td>\n",
              "      <td>[Good morning]</td>\n",
              "      <td>[Good morning. I hope you had a good night's sleep. How are you feeling today? ]</td>\n",
              "    </tr>\n",
              "    <tr>\n",
              "      <th>2</th>\n",
              "      <td>afternoon</td>\n",
              "      <td>[Good afternoon]</td>\n",
              "      <td>[Good afternoon. How is your day going?]</td>\n",
              "    </tr>\n",
              "    <tr>\n",
              "      <th>3</th>\n",
              "      <td>evening</td>\n",
              "      <td>[Good evening]</td>\n",
              "      <td>[Good evening. How has your day been?]</td>\n",
              "    </tr>\n",
              "    <tr>\n",
              "      <th>4</th>\n",
              "      <td>night</td>\n",
              "      <td>[Good night]</td>\n",
              "      <td>[Good night. Get some proper sleep, Good night. Sweet dreams.]</td>\n",
              "    </tr>\n",
              "  </tbody>\n",
              "</table>\n",
              "</div>\n",
              "    <div class=\"colab-df-buttons\">\n",
              "\n",
              "  <div class=\"colab-df-container\">\n",
              "    <button class=\"colab-df-convert\" onclick=\"convertToInteractive('df-8a418b3f-ffd0-450a-97f2-69ebc210837b')\"\n",
              "            title=\"Convert this dataframe to an interactive table.\"\n",
              "            style=\"display:none;\">\n",
              "\n",
              "  <svg xmlns=\"http://www.w3.org/2000/svg\" height=\"24px\" viewBox=\"0 -960 960 960\">\n",
              "    <path d=\"M120-120v-720h720v720H120Zm60-500h600v-160H180v160Zm220 220h160v-160H400v160Zm0 220h160v-160H400v160ZM180-400h160v-160H180v160Zm440 0h160v-160H620v160ZM180-180h160v-160H180v160Zm440 0h160v-160H620v160Z\"/>\n",
              "  </svg>\n",
              "    </button>\n",
              "\n",
              "  <style>\n",
              "    .colab-df-container {\n",
              "      display:flex;\n",
              "      gap: 12px;\n",
              "    }\n",
              "\n",
              "    .colab-df-convert {\n",
              "      background-color: #E8F0FE;\n",
              "      border: none;\n",
              "      border-radius: 50%;\n",
              "      cursor: pointer;\n",
              "      display: none;\n",
              "      fill: #1967D2;\n",
              "      height: 32px;\n",
              "      padding: 0 0 0 0;\n",
              "      width: 32px;\n",
              "    }\n",
              "\n",
              "    .colab-df-convert:hover {\n",
              "      background-color: #E2EBFA;\n",
              "      box-shadow: 0px 1px 2px rgba(60, 64, 67, 0.3), 0px 1px 3px 1px rgba(60, 64, 67, 0.15);\n",
              "      fill: #174EA6;\n",
              "    }\n",
              "\n",
              "    .colab-df-buttons div {\n",
              "      margin-bottom: 4px;\n",
              "    }\n",
              "\n",
              "    [theme=dark] .colab-df-convert {\n",
              "      background-color: #3B4455;\n",
              "      fill: #D2E3FC;\n",
              "    }\n",
              "\n",
              "    [theme=dark] .colab-df-convert:hover {\n",
              "      background-color: #434B5C;\n",
              "      box-shadow: 0px 1px 3px 1px rgba(0, 0, 0, 0.15);\n",
              "      filter: drop-shadow(0px 1px 2px rgba(0, 0, 0, 0.3));\n",
              "      fill: #FFFFFF;\n",
              "    }\n",
              "  </style>\n",
              "\n",
              "    <script>\n",
              "      const buttonEl =\n",
              "        document.querySelector('#df-8a418b3f-ffd0-450a-97f2-69ebc210837b button.colab-df-convert');\n",
              "      buttonEl.style.display =\n",
              "        google.colab.kernel.accessAllowed ? 'block' : 'none';\n",
              "\n",
              "      async function convertToInteractive(key) {\n",
              "        const element = document.querySelector('#df-8a418b3f-ffd0-450a-97f2-69ebc210837b');\n",
              "        const dataTable =\n",
              "          await google.colab.kernel.invokeFunction('convertToInteractive',\n",
              "                                                    [key], {});\n",
              "        if (!dataTable) return;\n",
              "\n",
              "        const docLinkHtml = 'Like what you see? Visit the ' +\n",
              "          '<a target=\"_blank\" href=https://colab.research.google.com/notebooks/data_table.ipynb>data table notebook</a>'\n",
              "          + ' to learn more about interactive tables.';\n",
              "        element.innerHTML = '';\n",
              "        dataTable['output_type'] = 'display_data';\n",
              "        await google.colab.output.renderOutput(dataTable, element);\n",
              "        const docLink = document.createElement('div');\n",
              "        docLink.innerHTML = docLinkHtml;\n",
              "        element.appendChild(docLink);\n",
              "      }\n",
              "    </script>\n",
              "  </div>\n",
              "\n",
              "\n",
              "<div id=\"df-377a2be4-5389-4ca6-a847-19d1e4507cc5\">\n",
              "  <button class=\"colab-df-quickchart\" onclick=\"quickchart('df-377a2be4-5389-4ca6-a847-19d1e4507cc5')\"\n",
              "            title=\"Suggest charts.\"\n",
              "            style=\"display:none;\">\n",
              "\n",
              "<svg xmlns=\"http://www.w3.org/2000/svg\" height=\"24px\"viewBox=\"0 0 24 24\"\n",
              "     width=\"24px\">\n",
              "    <g>\n",
              "        <path d=\"M19 3H5c-1.1 0-2 .9-2 2v14c0 1.1.9 2 2 2h14c1.1 0 2-.9 2-2V5c0-1.1-.9-2-2-2zM9 17H7v-7h2v7zm4 0h-2V7h2v10zm4 0h-2v-4h2v4z\"/>\n",
              "    </g>\n",
              "</svg>\n",
              "  </button>\n",
              "\n",
              "<style>\n",
              "  .colab-df-quickchart {\n",
              "      --bg-color: #E8F0FE;\n",
              "      --fill-color: #1967D2;\n",
              "      --hover-bg-color: #E2EBFA;\n",
              "      --hover-fill-color: #174EA6;\n",
              "      --disabled-fill-color: #AAA;\n",
              "      --disabled-bg-color: #DDD;\n",
              "  }\n",
              "\n",
              "  [theme=dark] .colab-df-quickchart {\n",
              "      --bg-color: #3B4455;\n",
              "      --fill-color: #D2E3FC;\n",
              "      --hover-bg-color: #434B5C;\n",
              "      --hover-fill-color: #FFFFFF;\n",
              "      --disabled-bg-color: #3B4455;\n",
              "      --disabled-fill-color: #666;\n",
              "  }\n",
              "\n",
              "  .colab-df-quickchart {\n",
              "    background-color: var(--bg-color);\n",
              "    border: none;\n",
              "    border-radius: 50%;\n",
              "    cursor: pointer;\n",
              "    display: none;\n",
              "    fill: var(--fill-color);\n",
              "    height: 32px;\n",
              "    padding: 0;\n",
              "    width: 32px;\n",
              "  }\n",
              "\n",
              "  .colab-df-quickchart:hover {\n",
              "    background-color: var(--hover-bg-color);\n",
              "    box-shadow: 0 1px 2px rgba(60, 64, 67, 0.3), 0 1px 3px 1px rgba(60, 64, 67, 0.15);\n",
              "    fill: var(--button-hover-fill-color);\n",
              "  }\n",
              "\n",
              "  .colab-df-quickchart-complete:disabled,\n",
              "  .colab-df-quickchart-complete:disabled:hover {\n",
              "    background-color: var(--disabled-bg-color);\n",
              "    fill: var(--disabled-fill-color);\n",
              "    box-shadow: none;\n",
              "  }\n",
              "\n",
              "  .colab-df-spinner {\n",
              "    border: 2px solid var(--fill-color);\n",
              "    border-color: transparent;\n",
              "    border-bottom-color: var(--fill-color);\n",
              "    animation:\n",
              "      spin 1s steps(1) infinite;\n",
              "  }\n",
              "\n",
              "  @keyframes spin {\n",
              "    0% {\n",
              "      border-color: transparent;\n",
              "      border-bottom-color: var(--fill-color);\n",
              "      border-left-color: var(--fill-color);\n",
              "    }\n",
              "    20% {\n",
              "      border-color: transparent;\n",
              "      border-left-color: var(--fill-color);\n",
              "      border-top-color: var(--fill-color);\n",
              "    }\n",
              "    30% {\n",
              "      border-color: transparent;\n",
              "      border-left-color: var(--fill-color);\n",
              "      border-top-color: var(--fill-color);\n",
              "      border-right-color: var(--fill-color);\n",
              "    }\n",
              "    40% {\n",
              "      border-color: transparent;\n",
              "      border-right-color: var(--fill-color);\n",
              "      border-top-color: var(--fill-color);\n",
              "    }\n",
              "    60% {\n",
              "      border-color: transparent;\n",
              "      border-right-color: var(--fill-color);\n",
              "    }\n",
              "    80% {\n",
              "      border-color: transparent;\n",
              "      border-right-color: var(--fill-color);\n",
              "      border-bottom-color: var(--fill-color);\n",
              "    }\n",
              "    90% {\n",
              "      border-color: transparent;\n",
              "      border-bottom-color: var(--fill-color);\n",
              "    }\n",
              "  }\n",
              "</style>\n",
              "\n",
              "  <script>\n",
              "    async function quickchart(key) {\n",
              "      const quickchartButtonEl =\n",
              "        document.querySelector('#' + key + ' button');\n",
              "      quickchartButtonEl.disabled = true;  // To prevent multiple clicks.\n",
              "      quickchartButtonEl.classList.add('colab-df-spinner');\n",
              "      try {\n",
              "        const charts = await google.colab.kernel.invokeFunction(\n",
              "            'suggestCharts', [key], {});\n",
              "      } catch (error) {\n",
              "        console.error('Error during call to suggestCharts:', error);\n",
              "      }\n",
              "      quickchartButtonEl.classList.remove('colab-df-spinner');\n",
              "      quickchartButtonEl.classList.add('colab-df-quickchart-complete');\n",
              "    }\n",
              "    (() => {\n",
              "      let quickchartButtonEl =\n",
              "        document.querySelector('#df-377a2be4-5389-4ca6-a847-19d1e4507cc5 button');\n",
              "      quickchartButtonEl.style.display =\n",
              "        google.colab.kernel.accessAllowed ? 'block' : 'none';\n",
              "    })();\n",
              "  </script>\n",
              "</div>\n",
              "    </div>\n",
              "  </div>\n"
            ]
          },
          "metadata": {},
          "execution_count": 6
        }
      ]
    },
    {
      "cell_type": "code",
      "source": [
        "dic = {\"tag\":[], \"patterns\":[], \"responses\":[]}\n",
        "for example in data['intents']:\n",
        "    for pattern in example['patterns']:\n",
        "        dic['patterns'].append(pattern)\n",
        "        dic['tag'].append(example['tag'])\n",
        "        dic['responses'].append(example['responses'])"
      ],
      "metadata": {
        "execution": {
          "iopub.status.busy": "2023-09-17T13:50:41.223958Z",
          "iopub.execute_input": "2023-09-17T13:50:41.225128Z",
          "iopub.status.idle": "2023-09-17T13:50:41.231908Z",
          "shell.execute_reply.started": "2023-09-17T13:50:41.225091Z",
          "shell.execute_reply": "2023-09-17T13:50:41.230690Z"
        },
        "trusted": true,
        "id": "a0H2-N6udnOg"
      },
      "execution_count": 7,
      "outputs": []
    },
    {
      "cell_type": "code",
      "source": [
        "# pd.options.display.max_rows=15\n",
        "# pd.DataFrame([[labels,patterns]])"
      ],
      "metadata": {
        "execution": {
          "iopub.status.busy": "2023-09-17T13:50:41.233389Z",
          "iopub.execute_input": "2023-09-17T13:50:41.234542Z",
          "iopub.status.idle": "2023-09-17T13:50:41.247154Z",
          "shell.execute_reply.started": "2023-09-17T13:50:41.234505Z",
          "shell.execute_reply": "2023-09-17T13:50:41.246064Z"
        },
        "trusted": true,
        "id": "rGiijAxMdnOg"
      },
      "execution_count": 8,
      "outputs": []
    },
    {
      "cell_type": "code",
      "source": [
        "pd.options.display.max_colwidth=15\n",
        "df = pd.DataFrame.from_dict(dic)\n",
        "df"
      ],
      "metadata": {
        "execution": {
          "iopub.status.busy": "2023-09-17T13:50:41.248700Z",
          "iopub.execute_input": "2023-09-17T13:50:41.249472Z",
          "iopub.status.idle": "2023-09-17T13:50:41.274776Z",
          "shell.execute_reply.started": "2023-09-17T13:50:41.249436Z",
          "shell.execute_reply": "2023-09-17T13:50:41.273544Z"
        },
        "trusted": true,
        "colab": {
          "base_uri": "https://localhost:8080/",
          "height": 423
        },
        "id": "Kmh6C8-ldnOg",
        "outputId": "079f74e1-a464-4b9b-fd2e-301fa9fdcf20"
      },
      "execution_count": 9,
      "outputs": [
        {
          "output_type": "execute_result",
          "data": {
            "text/plain": [
              "          tag        patterns       responses\n",
              "0    greeting              Hi  [Hello ther...\n",
              "1    greeting             Hey  [Hello ther...\n",
              "2    greeting  Is anyone t...  [Hello ther...\n",
              "3    greeting        Hi there  [Hello ther...\n",
              "4    greeting           Hello  [Hello ther...\n",
              "..        ...             ...             ...\n",
              "227   fact-29  How do I kn...  [If your be...\n",
              "228   fact-30  How can I m...  [A lot of p...\n",
              "229   fact-31  What's the ...  [Stress and...\n",
              "230   fact-32  What's the ...  [Sadness is...\n",
              "231   fact-32  difference ...  [Sadness is...\n",
              "\n",
              "[232 rows x 3 columns]"
            ],
            "text/html": [
              "\n",
              "  <div id=\"df-bf8377ff-e9a3-4da5-91e7-a3ebe68aec5f\" class=\"colab-df-container\">\n",
              "    <div>\n",
              "<style scoped>\n",
              "    .dataframe tbody tr th:only-of-type {\n",
              "        vertical-align: middle;\n",
              "    }\n",
              "\n",
              "    .dataframe tbody tr th {\n",
              "        vertical-align: top;\n",
              "    }\n",
              "\n",
              "    .dataframe thead th {\n",
              "        text-align: right;\n",
              "    }\n",
              "</style>\n",
              "<table border=\"1\" class=\"dataframe\">\n",
              "  <thead>\n",
              "    <tr style=\"text-align: right;\">\n",
              "      <th></th>\n",
              "      <th>tag</th>\n",
              "      <th>patterns</th>\n",
              "      <th>responses</th>\n",
              "    </tr>\n",
              "  </thead>\n",
              "  <tbody>\n",
              "    <tr>\n",
              "      <th>0</th>\n",
              "      <td>greeting</td>\n",
              "      <td>Hi</td>\n",
              "      <td>[Hello ther...</td>\n",
              "    </tr>\n",
              "    <tr>\n",
              "      <th>1</th>\n",
              "      <td>greeting</td>\n",
              "      <td>Hey</td>\n",
              "      <td>[Hello ther...</td>\n",
              "    </tr>\n",
              "    <tr>\n",
              "      <th>2</th>\n",
              "      <td>greeting</td>\n",
              "      <td>Is anyone t...</td>\n",
              "      <td>[Hello ther...</td>\n",
              "    </tr>\n",
              "    <tr>\n",
              "      <th>3</th>\n",
              "      <td>greeting</td>\n",
              "      <td>Hi there</td>\n",
              "      <td>[Hello ther...</td>\n",
              "    </tr>\n",
              "    <tr>\n",
              "      <th>4</th>\n",
              "      <td>greeting</td>\n",
              "      <td>Hello</td>\n",
              "      <td>[Hello ther...</td>\n",
              "    </tr>\n",
              "    <tr>\n",
              "      <th>...</th>\n",
              "      <td>...</td>\n",
              "      <td>...</td>\n",
              "      <td>...</td>\n",
              "    </tr>\n",
              "    <tr>\n",
              "      <th>227</th>\n",
              "      <td>fact-29</td>\n",
              "      <td>How do I kn...</td>\n",
              "      <td>[If your be...</td>\n",
              "    </tr>\n",
              "    <tr>\n",
              "      <th>228</th>\n",
              "      <td>fact-30</td>\n",
              "      <td>How can I m...</td>\n",
              "      <td>[A lot of p...</td>\n",
              "    </tr>\n",
              "    <tr>\n",
              "      <th>229</th>\n",
              "      <td>fact-31</td>\n",
              "      <td>What's the ...</td>\n",
              "      <td>[Stress and...</td>\n",
              "    </tr>\n",
              "    <tr>\n",
              "      <th>230</th>\n",
              "      <td>fact-32</td>\n",
              "      <td>What's the ...</td>\n",
              "      <td>[Sadness is...</td>\n",
              "    </tr>\n",
              "    <tr>\n",
              "      <th>231</th>\n",
              "      <td>fact-32</td>\n",
              "      <td>difference ...</td>\n",
              "      <td>[Sadness is...</td>\n",
              "    </tr>\n",
              "  </tbody>\n",
              "</table>\n",
              "<p>232 rows × 3 columns</p>\n",
              "</div>\n",
              "    <div class=\"colab-df-buttons\">\n",
              "\n",
              "  <div class=\"colab-df-container\">\n",
              "    <button class=\"colab-df-convert\" onclick=\"convertToInteractive('df-bf8377ff-e9a3-4da5-91e7-a3ebe68aec5f')\"\n",
              "            title=\"Convert this dataframe to an interactive table.\"\n",
              "            style=\"display:none;\">\n",
              "\n",
              "  <svg xmlns=\"http://www.w3.org/2000/svg\" height=\"24px\" viewBox=\"0 -960 960 960\">\n",
              "    <path d=\"M120-120v-720h720v720H120Zm60-500h600v-160H180v160Zm220 220h160v-160H400v160Zm0 220h160v-160H400v160ZM180-400h160v-160H180v160Zm440 0h160v-160H620v160ZM180-180h160v-160H180v160Zm440 0h160v-160H620v160Z\"/>\n",
              "  </svg>\n",
              "    </button>\n",
              "\n",
              "  <style>\n",
              "    .colab-df-container {\n",
              "      display:flex;\n",
              "      gap: 12px;\n",
              "    }\n",
              "\n",
              "    .colab-df-convert {\n",
              "      background-color: #E8F0FE;\n",
              "      border: none;\n",
              "      border-radius: 50%;\n",
              "      cursor: pointer;\n",
              "      display: none;\n",
              "      fill: #1967D2;\n",
              "      height: 32px;\n",
              "      padding: 0 0 0 0;\n",
              "      width: 32px;\n",
              "    }\n",
              "\n",
              "    .colab-df-convert:hover {\n",
              "      background-color: #E2EBFA;\n",
              "      box-shadow: 0px 1px 2px rgba(60, 64, 67, 0.3), 0px 1px 3px 1px rgba(60, 64, 67, 0.15);\n",
              "      fill: #174EA6;\n",
              "    }\n",
              "\n",
              "    .colab-df-buttons div {\n",
              "      margin-bottom: 4px;\n",
              "    }\n",
              "\n",
              "    [theme=dark] .colab-df-convert {\n",
              "      background-color: #3B4455;\n",
              "      fill: #D2E3FC;\n",
              "    }\n",
              "\n",
              "    [theme=dark] .colab-df-convert:hover {\n",
              "      background-color: #434B5C;\n",
              "      box-shadow: 0px 1px 3px 1px rgba(0, 0, 0, 0.15);\n",
              "      filter: drop-shadow(0px 1px 2px rgba(0, 0, 0, 0.3));\n",
              "      fill: #FFFFFF;\n",
              "    }\n",
              "  </style>\n",
              "\n",
              "    <script>\n",
              "      const buttonEl =\n",
              "        document.querySelector('#df-bf8377ff-e9a3-4da5-91e7-a3ebe68aec5f button.colab-df-convert');\n",
              "      buttonEl.style.display =\n",
              "        google.colab.kernel.accessAllowed ? 'block' : 'none';\n",
              "\n",
              "      async function convertToInteractive(key) {\n",
              "        const element = document.querySelector('#df-bf8377ff-e9a3-4da5-91e7-a3ebe68aec5f');\n",
              "        const dataTable =\n",
              "          await google.colab.kernel.invokeFunction('convertToInteractive',\n",
              "                                                    [key], {});\n",
              "        if (!dataTable) return;\n",
              "\n",
              "        const docLinkHtml = 'Like what you see? Visit the ' +\n",
              "          '<a target=\"_blank\" href=https://colab.research.google.com/notebooks/data_table.ipynb>data table notebook</a>'\n",
              "          + ' to learn more about interactive tables.';\n",
              "        element.innerHTML = '';\n",
              "        dataTable['output_type'] = 'display_data';\n",
              "        await google.colab.output.renderOutput(dataTable, element);\n",
              "        const docLink = document.createElement('div');\n",
              "        docLink.innerHTML = docLinkHtml;\n",
              "        element.appendChild(docLink);\n",
              "      }\n",
              "    </script>\n",
              "  </div>\n",
              "\n",
              "\n",
              "<div id=\"df-875c557a-34c5-4136-a075-0705d8ba7923\">\n",
              "  <button class=\"colab-df-quickchart\" onclick=\"quickchart('df-875c557a-34c5-4136-a075-0705d8ba7923')\"\n",
              "            title=\"Suggest charts.\"\n",
              "            style=\"display:none;\">\n",
              "\n",
              "<svg xmlns=\"http://www.w3.org/2000/svg\" height=\"24px\"viewBox=\"0 0 24 24\"\n",
              "     width=\"24px\">\n",
              "    <g>\n",
              "        <path d=\"M19 3H5c-1.1 0-2 .9-2 2v14c0 1.1.9 2 2 2h14c1.1 0 2-.9 2-2V5c0-1.1-.9-2-2-2zM9 17H7v-7h2v7zm4 0h-2V7h2v10zm4 0h-2v-4h2v4z\"/>\n",
              "    </g>\n",
              "</svg>\n",
              "  </button>\n",
              "\n",
              "<style>\n",
              "  .colab-df-quickchart {\n",
              "      --bg-color: #E8F0FE;\n",
              "      --fill-color: #1967D2;\n",
              "      --hover-bg-color: #E2EBFA;\n",
              "      --hover-fill-color: #174EA6;\n",
              "      --disabled-fill-color: #AAA;\n",
              "      --disabled-bg-color: #DDD;\n",
              "  }\n",
              "\n",
              "  [theme=dark] .colab-df-quickchart {\n",
              "      --bg-color: #3B4455;\n",
              "      --fill-color: #D2E3FC;\n",
              "      --hover-bg-color: #434B5C;\n",
              "      --hover-fill-color: #FFFFFF;\n",
              "      --disabled-bg-color: #3B4455;\n",
              "      --disabled-fill-color: #666;\n",
              "  }\n",
              "\n",
              "  .colab-df-quickchart {\n",
              "    background-color: var(--bg-color);\n",
              "    border: none;\n",
              "    border-radius: 50%;\n",
              "    cursor: pointer;\n",
              "    display: none;\n",
              "    fill: var(--fill-color);\n",
              "    height: 32px;\n",
              "    padding: 0;\n",
              "    width: 32px;\n",
              "  }\n",
              "\n",
              "  .colab-df-quickchart:hover {\n",
              "    background-color: var(--hover-bg-color);\n",
              "    box-shadow: 0 1px 2px rgba(60, 64, 67, 0.3), 0 1px 3px 1px rgba(60, 64, 67, 0.15);\n",
              "    fill: var(--button-hover-fill-color);\n",
              "  }\n",
              "\n",
              "  .colab-df-quickchart-complete:disabled,\n",
              "  .colab-df-quickchart-complete:disabled:hover {\n",
              "    background-color: var(--disabled-bg-color);\n",
              "    fill: var(--disabled-fill-color);\n",
              "    box-shadow: none;\n",
              "  }\n",
              "\n",
              "  .colab-df-spinner {\n",
              "    border: 2px solid var(--fill-color);\n",
              "    border-color: transparent;\n",
              "    border-bottom-color: var(--fill-color);\n",
              "    animation:\n",
              "      spin 1s steps(1) infinite;\n",
              "  }\n",
              "\n",
              "  @keyframes spin {\n",
              "    0% {\n",
              "      border-color: transparent;\n",
              "      border-bottom-color: var(--fill-color);\n",
              "      border-left-color: var(--fill-color);\n",
              "    }\n",
              "    20% {\n",
              "      border-color: transparent;\n",
              "      border-left-color: var(--fill-color);\n",
              "      border-top-color: var(--fill-color);\n",
              "    }\n",
              "    30% {\n",
              "      border-color: transparent;\n",
              "      border-left-color: var(--fill-color);\n",
              "      border-top-color: var(--fill-color);\n",
              "      border-right-color: var(--fill-color);\n",
              "    }\n",
              "    40% {\n",
              "      border-color: transparent;\n",
              "      border-right-color: var(--fill-color);\n",
              "      border-top-color: var(--fill-color);\n",
              "    }\n",
              "    60% {\n",
              "      border-color: transparent;\n",
              "      border-right-color: var(--fill-color);\n",
              "    }\n",
              "    80% {\n",
              "      border-color: transparent;\n",
              "      border-right-color: var(--fill-color);\n",
              "      border-bottom-color: var(--fill-color);\n",
              "    }\n",
              "    90% {\n",
              "      border-color: transparent;\n",
              "      border-bottom-color: var(--fill-color);\n",
              "    }\n",
              "  }\n",
              "</style>\n",
              "\n",
              "  <script>\n",
              "    async function quickchart(key) {\n",
              "      const quickchartButtonEl =\n",
              "        document.querySelector('#' + key + ' button');\n",
              "      quickchartButtonEl.disabled = true;  // To prevent multiple clicks.\n",
              "      quickchartButtonEl.classList.add('colab-df-spinner');\n",
              "      try {\n",
              "        const charts = await google.colab.kernel.invokeFunction(\n",
              "            'suggestCharts', [key], {});\n",
              "      } catch (error) {\n",
              "        console.error('Error during call to suggestCharts:', error);\n",
              "      }\n",
              "      quickchartButtonEl.classList.remove('colab-df-spinner');\n",
              "      quickchartButtonEl.classList.add('colab-df-quickchart-complete');\n",
              "    }\n",
              "    (() => {\n",
              "      let quickchartButtonEl =\n",
              "        document.querySelector('#df-875c557a-34c5-4136-a075-0705d8ba7923 button');\n",
              "      quickchartButtonEl.style.display =\n",
              "        google.colab.kernel.accessAllowed ? 'block' : 'none';\n",
              "    })();\n",
              "  </script>\n",
              "</div>\n",
              "    </div>\n",
              "  </div>\n"
            ]
          },
          "metadata": {},
          "execution_count": 9
        }
      ]
    },
    {
      "cell_type": "code",
      "source": [
        "df['tag'].unique()"
      ],
      "metadata": {
        "execution": {
          "iopub.status.busy": "2023-09-17T13:50:41.277380Z",
          "iopub.execute_input": "2023-09-17T13:50:41.278284Z",
          "iopub.status.idle": "2023-09-17T13:50:41.287958Z",
          "shell.execute_reply.started": "2023-09-17T13:50:41.278236Z",
          "shell.execute_reply": "2023-09-17T13:50:41.286058Z"
        },
        "trusted": true,
        "colab": {
          "base_uri": "https://localhost:8080/"
        },
        "id": "Ym67qlOYdnOh",
        "outputId": "3c23704d-15d9-4c5e-e52b-6447da71c3d9"
      },
      "execution_count": 10,
      "outputs": [
        {
          "output_type": "execute_result",
          "data": {
            "text/plain": [
              "array(['greeting', 'morning', 'afternoon', 'evening', 'night', 'goodbye',\n",
              "       'thanks', 'no-response', 'neutral-response', 'about', 'skill',\n",
              "       'creation', 'name', 'help', 'sad', 'stressed', 'worthless',\n",
              "       'depressed', 'happy', 'casual', 'anxious', 'not-talking', 'sleep',\n",
              "       'scared', 'death', 'understand', 'done', 'suicide', 'hate-you',\n",
              "       'hate-me', 'default', 'jokes', 'repeat', 'wrong', 'stupid',\n",
              "       'location', 'something-else', 'friends', 'ask', 'problem',\n",
              "       'no-approach', 'learn-more', 'user-agree', 'meditation',\n",
              "       'user-meditation', 'pandora-useful', 'user-advice',\n",
              "       'learn-mental-health', 'mental-health-fact', 'fact-1', 'fact-2',\n",
              "       'fact-3', 'fact-5', 'fact-6', 'fact-7', 'fact-8', 'fact-9',\n",
              "       'fact-10', 'fact-11', 'fact-12', 'fact-13', 'fact-14', 'fact-15',\n",
              "       'fact-16', 'fact-17', 'fact-18', 'fact-19', 'fact-20', 'fact-21',\n",
              "       'fact-22', 'fact-23', 'fact-24', 'fact-25', 'fact-26', 'fact-27',\n",
              "       'fact-28', 'fact-29', 'fact-30', 'fact-31', 'fact-32'],\n",
              "      dtype=object)"
            ]
          },
          "metadata": {},
          "execution_count": 10
        }
      ]
    },
    {
      "cell_type": "code",
      "source": [
        "df['tag'].nunique()"
      ],
      "metadata": {
        "execution": {
          "iopub.status.busy": "2023-09-17T13:50:41.289842Z",
          "iopub.execute_input": "2023-09-17T13:50:41.290617Z",
          "iopub.status.idle": "2023-09-17T13:50:41.298727Z",
          "shell.execute_reply.started": "2023-09-17T13:50:41.290578Z",
          "shell.execute_reply": "2023-09-17T13:50:41.297537Z"
        },
        "trusted": true,
        "colab": {
          "base_uri": "https://localhost:8080/"
        },
        "id": "UfJref9jdnOh",
        "outputId": "a6b9e133-0e38-461e-d939-deb11dbb5601"
      },
      "execution_count": 11,
      "outputs": [
        {
          "output_type": "execute_result",
          "data": {
            "text/plain": [
              "80"
            ]
          },
          "metadata": {},
          "execution_count": 11
        }
      ]
    },
    {
      "cell_type": "markdown",
      "source": [
        "## Data Preprocessing¶\n"
      ],
      "metadata": {
        "id": "90I63SqednOh"
      }
    },
    {
      "cell_type": "markdown",
      "source": [
        "##### Now I am going to apply some text preprocessing stuffs such as lowering, punctuation removing and then tokenize the patterns.\n"
      ],
      "metadata": {
        "id": "xsNqbTiqdnOi"
      }
    },
    {
      "cell_type": "code",
      "source": [
        "import numpy as np\n",
        "import pandas as pd"
      ],
      "metadata": {
        "id": "lAYRAUtqeANb"
      },
      "execution_count": 4,
      "outputs": []
    },
    {
      "cell_type": "code",
      "source": [
        "from tensorflow.keras.preprocessing.text import Tokenizer\n",
        "\n",
        "tokenizer = Tokenizer(lower=True, split=' ')\n",
        "#  lists to be a token\n",
        "tokenizer.fit_on_texts(df['patterns'])\n",
        "# serialized JSON dictionary\n",
        "tokenizer.get_config()"
      ],
      "metadata": {
        "execution": {
          "iopub.status.busy": "2023-09-17T13:50:41.300666Z",
          "iopub.execute_input": "2023-09-17T13:50:41.301381Z",
          "iopub.status.idle": "2023-09-17T13:50:41.319104Z",
          "shell.execute_reply.started": "2023-09-17T13:50:41.301344Z",
          "shell.execute_reply": "2023-09-17T13:50:41.316261Z"
        },
        "trusted": true,
        "colab": {
          "base_uri": "https://localhost:8080/"
        },
        "id": "va4SB2mDdnOj",
        "outputId": "77905fd3-beb3-448e-8dfa-99230e190338"
      },
      "execution_count": 12,
      "outputs": [
        {
          "output_type": "execute_result",
          "data": {
            "text/plain": [
              "{'num_words': None,\n",
              " 'filters': '!\"#$%&()*+,-./:;<=>?@[\\\\]^_`{|}~\\t\\n',\n",
              " 'lower': True,\n",
              " 'split': ' ',\n",
              " 'char_level': False,\n",
              " 'oov_token': None,\n",
              " 'document_count': 232,\n",
              " 'word_counts': '{\"hi\": 2, \"hey\": 2, \"is\": 13, \"anyone\": 2, \"there\": 5, \"hello\": 1, \"howdy\": 1, \"hola\": 1, \"bonjour\": 1, \"konnichiwa\": 1, \"guten\": 1, \"tag\": 1, \"ola\": 1, \"good\": 5, \"morning\": 1, \"afternoon\": 1, \"evening\": 1, \"night\": 1, \"bye\": 3, \"see\": 2, \"you\": 38, \"later\": 1, \"goodbye\": 1, \"au\": 1, \"revoir\": 1, \"sayonara\": 1, \"ok\": 4, \"then\": 1, \"fare\": 1, \"thee\": 1, \"well\": 2, \"thanks\": 2, \"thank\": 3, \"that\\'s\": 3, \"helpful\": 1, \"for\": 10, \"the\": 10, \"help\": 6, \"than\": 1, \"very\": 3, \"much\": 4, \"nothing\": 3, \"who\": 6, \"are\": 15, \"what\": 29, \"tell\": 6, \"me\": 19, \"more\": 6, \"about\": 20, \"yourself\": 3, \"your\": 3, \"name\": 4, \"should\": 3, \"i\": 95, \"call\": 1, \"what\\'s\": 3, \"can\": 16, \"do\": 14, \"created\": 2, \"how\": 8, \"were\": 2, \"made\": 1, \"my\": 13, \"am\": 17, \"go\": 4, \"by\": 1, \"could\": 2, \"give\": 1, \"a\": 12, \"hand\": 1, \"please\": 2, \"need\": 6, \"support\": 3, \"feeling\": 1, \"lonely\": 4, \"so\": 10, \"feel\": 16, \"down\": 1, \"sad\": 2, \"empty\": 1, \"don\\'t\": 11, \"have\": 9, \"stressed\": 4, \"out\": 3, \"stuck\": 1, \"still\": 1, \"burned\": 1, \"worthless\": 1, \"no\": 5, \"one\": 1, \"likes\": 1, \"can\\'t\": 7, \"anything\": 2, \"useless\": 2, \"makes\": 1, \"sense\": 2, \"anymore\": 2, \"take\": 1, \"it\": 7, \"depressed\": 3, \"think\": 3, \"i\\'m\": 9, \"depression\": 7, \"great\": 1, \"today\": 1, \"happy\": 2, \"cheerful\": 1, \"fine\": 2, \"oh\": 1, \"okay\": 1, \"nice\": 1, \"whatever\": 1, \"k\": 1, \"yeah\": 3, \"yes\": 2, \"not\": 5, \"really\": 2, \"anxious\": 2, \"because\": 4, \"of\": 8, \"want\": 9, \"to\": 24, \"talk\": 5, \"just\": 3, \"stay\": 1, \"away\": 4, \"bring\": 1, \"myself\": 7, \"open\": 1, \"up\": 2, \"shut\": 1, \"insominia\": 1, \"suffering\": 2, \"from\": 2, \"insomnia\": 1, \"sleep\": 3, \"haven\\'t\": 2, \"slept\": 1, \"last\": 1, \"days\": 2, \"seem\": 1, \"had\": 1, \"proper\": 1, \"past\": 1, \"few\": 1, \"scared\": 2, \"that\": 8, \"sounds\": 3, \"awful\": 1, \"this\": 3, \"way\": 1, \"mom\": 1, \"died\": 3, \"brother\": 1, \"dad\": 1, \"passed\": 3, \"sister\": 1, \"someone\": 2, \"in\": 3, \"family\": 2, \"friend\": 1, \"understand\": 1, \"you\\'re\": 5, \"some\": 4, \"robot\": 1, \"would\": 5, \"know\": 8, \"possibly\": 1, \"going\": 3, \"through\": 1, \"nobody\": 1, \"understands\": 1, \"all\": 4, \"say\": 2, \"else\": 4, \"be\": 2, \"kill\": 2, \"i\\'ve\": 2, \"thought\": 1, \"killing\": 1, \"die\": 1, \"commit\": 1, \"suicide\": 1, \"hate\": 3, \"like\": 6, \"trust\": 1, \"exams\": 4, \"friends\": 2, \"relationship\": 1, \"boyfriend\": 1, \"girlfriend\": 1, \"money\": 1, \"financial\": 1, \"problems\": 5, \"joke\": 2, \"another\": 2, \"already\": 2, \"told\": 1, \"mentioned\": 1, \"why\": 2, \"repeating\": 1, \"saying\": 1, \"doesn\\'t\": 1, \"make\": 1, \"wrong\": 2, \"response\": 1, \"answer\": 1, \"stupid\": 1, \"crazy\": 1, \"dumb\": 2, \"where\": 6, \"live\": 1, \"location\": 1, \"something\": 4, \"let\\'s\": 1, \"we\": 1, \"any\": 2, \"ask\": 1, \"probably\": 2, \"approaching\": 1, \"prepared\": 1, \"enough\": 1, \"guess\": 2, \"sure\": 1, \"learn\": 6, \"right\": 3, \"deserve\": 1, \"break\": 1, \"absolutely\": 1, \"hmmm\": 1, \"useful\": 2, \"did\": 1, \"said\": 1, \"and\": 5, \"alot\": 1, \"better\": 2, \"now\": 1, \"again\": 1, \"i\\'ll\": 1, \"continue\": 1, \"practicing\": 1, \"meditation\": 1, \"focus\": 1, \"on\": 2, \"control\": 1, \"advice\": 3, \"mental\": 25, \"health\": 19, \"interested\": 1, \"learning\": 1, \"fact\": 2, \"define\": 2, \"important\": 1, \"importance\": 1, \"if\": 6, \"mentally\": 1, \"ill\": 1, \"therapist\": 2, \"does\": 3, \"therapy\": 4, \"mean\": 1, \"illness\": 5, \"affect\": 1, \"causes\": 2, \"warning\": 1, \"signs\": 1, \"people\": 1, \"with\": 1, \"recover\": 1, \"appears\": 1, \"symptoms\": 1, \"disorder\": 1, \"find\": 4, \"professional\": 2, \"or\": 2, \"child\": 2, \"treatment\": 3, \"options\": 1, \"available\": 1, \"become\": 1, \"involved\": 1, \"difference\": 4, \"between\": 4, \"professionals\": 2, \"get\": 1, \"before\": 1, \"starting\": 1, \"new\": 1, \"medication\": 1, \"types\": 2, \"different\": 1, \"group\": 1, \"prevent\": 1, \"cures\": 1, \"cure\": 1, \"worried\": 1, \"unwell\": 1, \"maintain\": 1, \"social\": 1, \"connections\": 1, \"anxiety\": 1, \"stress\": 1, \"sadness\": 2}',\n",
              " 'word_docs': '{\"hi\": 2, \"hey\": 2, \"is\": 13, \"there\": 5, \"anyone\": 2, \"hello\": 1, \"howdy\": 1, \"hola\": 1, \"bonjour\": 1, \"konnichiwa\": 1, \"guten\": 1, \"tag\": 1, \"ola\": 1, \"good\": 5, \"morning\": 1, \"afternoon\": 1, \"evening\": 1, \"night\": 1, \"bye\": 3, \"you\": 37, \"later\": 1, \"see\": 2, \"goodbye\": 1, \"au\": 1, \"revoir\": 1, \"sayonara\": 1, \"ok\": 4, \"then\": 1, \"thee\": 1, \"fare\": 1, \"well\": 2, \"thanks\": 2, \"thank\": 3, \"that\\'s\": 3, \"helpful\": 1, \"the\": 10, \"help\": 6, \"for\": 10, \"than\": 1, \"very\": 3, \"much\": 4, \"nothing\": 3, \"are\": 15, \"who\": 6, \"what\": 29, \"yourself\": 3, \"tell\": 6, \"about\": 20, \"more\": 6, \"me\": 19, \"name\": 4, \"your\": 3, \"should\": 3, \"i\": 88, \"call\": 1, \"what\\'s\": 3, \"can\": 16, \"do\": 12, \"created\": 2, \"how\": 8, \"were\": 2, \"made\": 1, \"my\": 13, \"am\": 17, \"by\": 1, \"go\": 4, \"could\": 2, \"a\": 12, \"give\": 1, \"please\": 2, \"hand\": 1, \"support\": 3, \"need\": 6, \"feeling\": 1, \"lonely\": 4, \"so\": 10, \"feel\": 16, \"down\": 1, \"sad\": 2, \"empty\": 1, \"have\": 9, \"don\\'t\": 11, \"out\": 3, \"stressed\": 4, \"stuck\": 1, \"still\": 1, \"burned\": 1, \"worthless\": 1, \"no\": 5, \"likes\": 1, \"one\": 1, \"can\\'t\": 7, \"anything\": 2, \"useless\": 2, \"makes\": 1, \"sense\": 2, \"anymore\": 2, \"it\": 7, \"take\": 1, \"depressed\": 3, \"think\": 3, \"i\\'m\": 9, \"depression\": 7, \"today\": 1, \"great\": 1, \"happy\": 2, \"cheerful\": 1, \"fine\": 2, \"oh\": 1, \"okay\": 1, \"nice\": 1, \"whatever\": 1, \"k\": 1, \"yeah\": 3, \"yes\": 2, \"not\": 5, \"really\": 2, \"anxious\": 2, \"of\": 7, \"because\": 3, \"talk\": 5, \"to\": 23, \"want\": 9, \"just\": 3, \"away\": 4, \"stay\": 1, \"open\": 1, \"bring\": 1, \"up\": 2, \"myself\": 7, \"shut\": 1, \"insominia\": 1, \"suffering\": 2, \"insomnia\": 1, \"from\": 2, \"sleep\": 3, \"slept\": 1, \"days\": 2, \"last\": 1, \"haven\\'t\": 2, \"seem\": 1, \"past\": 1, \"proper\": 1, \"few\": 1, \"had\": 1, \"scared\": 2, \"that\": 8, \"sounds\": 3, \"awful\": 1, \"way\": 1, \"this\": 3, \"mom\": 1, \"died\": 3, \"brother\": 1, \"dad\": 1, \"passed\": 3, \"sister\": 1, \"someone\": 2, \"in\": 3, \"family\": 2, \"friend\": 1, \"understand\": 1, \"you\\'re\": 5, \"robot\": 1, \"know\": 8, \"some\": 4, \"would\": 5, \"going\": 3, \"possibly\": 1, \"through\": 1, \"understands\": 1, \"nobody\": 1, \"all\": 4, \"say\": 2, \"else\": 4, \"be\": 2, \"kill\": 2, \"thought\": 1, \"killing\": 1, \"i\\'ve\": 2, \"die\": 1, \"commit\": 1, \"suicide\": 1, \"hate\": 3, \"like\": 6, \"trust\": 1, \"exams\": 4, \"friends\": 2, \"relationship\": 1, \"boyfriend\": 1, \"girlfriend\": 1, \"money\": 1, \"financial\": 1, \"problems\": 5, \"joke\": 2, \"another\": 2, \"already\": 2, \"told\": 1, \"mentioned\": 1, \"why\": 2, \"repeating\": 1, \"saying\": 1, \"make\": 1, \"doesn\\'t\": 1, \"response\": 1, \"wrong\": 2, \"answer\": 1, \"stupid\": 1, \"crazy\": 1, \"dumb\": 2, \"where\": 6, \"live\": 1, \"location\": 1, \"something\": 4, \"let\\'s\": 1, \"we\": 1, \"any\": 2, \"ask\": 1, \"enough\": 1, \"prepared\": 1, \"probably\": 2, \"approaching\": 1, \"guess\": 2, \"sure\": 1, \"learn\": 6, \"right\": 3, \"deserve\": 1, \"break\": 1, \"absolutely\": 1, \"hmmm\": 1, \"useful\": 2, \"better\": 2, \"did\": 1, \"and\": 5, \"alot\": 1, \"said\": 1, \"now\": 1, \"i\\'ll\": 1, \"continue\": 1, \"practicing\": 1, \"focus\": 1, \"control\": 1, \"meditation\": 1, \"again\": 1, \"on\": 2, \"advice\": 3, \"health\": 19, \"mental\": 25, \"learning\": 1, \"interested\": 1, \"fact\": 2, \"define\": 2, \"important\": 1, \"importance\": 1, \"if\": 6, \"ill\": 1, \"mentally\": 1, \"therapist\": 2, \"does\": 3, \"therapy\": 4, \"mean\": 1, \"illness\": 5, \"affect\": 1, \"causes\": 2, \"signs\": 1, \"warning\": 1, \"recover\": 1, \"people\": 1, \"with\": 1, \"disorder\": 1, \"symptoms\": 1, \"appears\": 1, \"or\": 2, \"find\": 4, \"professional\": 2, \"child\": 2, \"available\": 1, \"treatment\": 3, \"options\": 1, \"involved\": 1, \"become\": 1, \"professionals\": 2, \"between\": 4, \"difference\": 4, \"get\": 1, \"new\": 1, \"before\": 1, \"starting\": 1, \"medication\": 1, \"types\": 2, \"different\": 1, \"group\": 1, \"prevent\": 1, \"cures\": 1, \"cure\": 1, \"worried\": 1, \"unwell\": 1, \"maintain\": 1, \"connections\": 1, \"social\": 1, \"anxiety\": 1, \"stress\": 1, \"sadness\": 2}',\n",
              " 'index_docs': '{\"95\": 2, \"96\": 2, \"14\": 13, \"41\": 5, \"97\": 2, \"150\": 1, \"151\": 1, \"152\": 1, \"153\": 1, \"154\": 1, \"155\": 1, \"156\": 1, \"157\": 1, \"42\": 5, \"158\": 1, \"159\": 1, \"160\": 1, \"161\": 1, \"68\": 3, \"2\": 37, \"162\": 1, \"98\": 2, \"163\": 1, \"164\": 1, \"165\": 1, \"166\": 1, \"51\": 4, \"167\": 1, \"169\": 1, \"168\": 1, \"99\": 2, \"100\": 2, \"69\": 3, \"70\": 3, \"170\": 1, \"19\": 10, \"32\": 6, \"18\": 10, \"171\": 1, \"71\": 3, \"52\": 4, \"72\": 3, \"12\": 15, \"33\": 6, \"3\": 29, \"73\": 3, \"34\": 6, \"6\": 20, \"35\": 6, \"7\": 19, \"53\": 4, \"74\": 3, \"75\": 3, \"1\": 88, \"172\": 1, \"76\": 3, \"10\": 16, \"13\": 12, \"101\": 2, \"24\": 8, \"102\": 2, \"173\": 1, \"15\": 13, \"9\": 17, \"174\": 1, \"54\": 4, \"103\": 2, \"16\": 12, \"175\": 1, \"104\": 2, \"176\": 1, \"77\": 3, \"36\": 6, \"177\": 1, \"55\": 4, \"20\": 10, \"11\": 16, \"178\": 1, \"105\": 2, \"179\": 1, \"21\": 9, \"17\": 11, \"78\": 3, \"56\": 4, \"180\": 1, \"181\": 1, \"182\": 1, \"183\": 1, \"43\": 5, \"185\": 1, \"184\": 1, \"28\": 7, \"106\": 2, \"107\": 2, \"186\": 1, \"108\": 2, \"109\": 2, \"29\": 7, \"187\": 1, \"79\": 3, \"80\": 3, \"22\": 9, \"30\": 7, \"189\": 1, \"188\": 1, \"110\": 2, \"190\": 1, \"111\": 2, \"191\": 1, \"192\": 1, \"193\": 1, \"194\": 1, \"195\": 1, \"81\": 3, \"112\": 2, \"44\": 5, \"113\": 2, \"114\": 2, \"25\": 7, \"57\": 3, \"45\": 5, \"5\": 23, \"23\": 9, \"82\": 3, \"58\": 4, \"196\": 1, \"198\": 1, \"197\": 1, \"115\": 2, \"31\": 7, \"199\": 1, \"200\": 1, \"116\": 2, \"201\": 1, \"117\": 2, \"83\": 3, \"202\": 1, \"119\": 2, \"203\": 1, \"118\": 2, \"204\": 1, \"207\": 1, \"206\": 1, \"208\": 1, \"205\": 1, \"120\": 2, \"26\": 8, \"84\": 3, \"209\": 1, \"210\": 1, \"85\": 3, \"211\": 1, \"86\": 3, \"212\": 1, \"213\": 1, \"87\": 3, \"214\": 1, \"121\": 2, \"88\": 3, \"122\": 2, \"215\": 1, \"216\": 1, \"46\": 5, \"217\": 1, \"27\": 8, \"59\": 4, \"47\": 5, \"89\": 3, \"218\": 1, \"219\": 1, \"221\": 1, \"220\": 1, \"60\": 4, \"123\": 2, \"61\": 4, \"124\": 2, \"125\": 2, \"222\": 1, \"223\": 1, \"126\": 2, \"224\": 1, \"225\": 1, \"226\": 1, \"90\": 3, \"37\": 6, \"227\": 1, \"62\": 4, \"127\": 2, \"228\": 1, \"229\": 1, \"230\": 1, \"231\": 1, \"232\": 1, \"48\": 5, \"128\": 2, \"129\": 2, \"130\": 2, \"233\": 1, \"234\": 1, \"131\": 2, \"235\": 1, \"236\": 1, \"238\": 1, \"237\": 1, \"239\": 1, \"132\": 2, \"240\": 1, \"241\": 1, \"242\": 1, \"133\": 2, \"38\": 6, \"243\": 1, \"244\": 1, \"63\": 4, \"245\": 1, \"246\": 1, \"134\": 2, \"247\": 1, \"250\": 1, \"249\": 1, \"135\": 2, \"248\": 1, \"136\": 2, \"251\": 1, \"39\": 6, \"91\": 3, \"252\": 1, \"253\": 1, \"254\": 1, \"255\": 1, \"137\": 2, \"138\": 2, \"256\": 1, \"49\": 5, \"258\": 1, \"257\": 1, \"259\": 1, \"261\": 1, \"262\": 1, \"263\": 1, \"265\": 1, \"266\": 1, \"264\": 1, \"260\": 1, \"139\": 2, \"92\": 3, \"8\": 19, \"4\": 25, \"268\": 1, \"267\": 1, \"140\": 2, \"141\": 2, \"269\": 1, \"270\": 1, \"40\": 6, \"272\": 1, \"271\": 1, \"142\": 2, \"93\": 3, \"64\": 4, \"273\": 1, \"50\": 5, \"274\": 1, \"143\": 2, \"276\": 1, \"275\": 1, \"279\": 1, \"277\": 1, \"278\": 1, \"282\": 1, \"281\": 1, \"280\": 1, \"145\": 2, \"65\": 4, \"144\": 2, \"146\": 2, \"284\": 1, \"94\": 3, \"283\": 1, \"286\": 1, \"285\": 1, \"147\": 2, \"67\": 4, \"66\": 4, \"287\": 1, \"290\": 1, \"288\": 1, \"289\": 1, \"291\": 1, \"148\": 2, \"292\": 1, \"293\": 1, \"294\": 1, \"295\": 1, \"296\": 1, \"297\": 1, \"298\": 1, \"299\": 1, \"301\": 1, \"300\": 1, \"302\": 1, \"303\": 1, \"149\": 2}',\n",
              " 'index_word': '{\"1\": \"i\", \"2\": \"you\", \"3\": \"what\", \"4\": \"mental\", \"5\": \"to\", \"6\": \"about\", \"7\": \"me\", \"8\": \"health\", \"9\": \"am\", \"10\": \"can\", \"11\": \"feel\", \"12\": \"are\", \"13\": \"do\", \"14\": \"is\", \"15\": \"my\", \"16\": \"a\", \"17\": \"don\\'t\", \"18\": \"for\", \"19\": \"the\", \"20\": \"so\", \"21\": \"have\", \"22\": \"i\\'m\", \"23\": \"want\", \"24\": \"how\", \"25\": \"of\", \"26\": \"that\", \"27\": \"know\", \"28\": \"can\\'t\", \"29\": \"it\", \"30\": \"depression\", \"31\": \"myself\", \"32\": \"help\", \"33\": \"who\", \"34\": \"tell\", \"35\": \"more\", \"36\": \"need\", \"37\": \"like\", \"38\": \"where\", \"39\": \"learn\", \"40\": \"if\", \"41\": \"there\", \"42\": \"good\", \"43\": \"no\", \"44\": \"not\", \"45\": \"talk\", \"46\": \"you\\'re\", \"47\": \"would\", \"48\": \"problems\", \"49\": \"and\", \"50\": \"illness\", \"51\": \"ok\", \"52\": \"much\", \"53\": \"name\", \"54\": \"go\", \"55\": \"lonely\", \"56\": \"stressed\", \"57\": \"because\", \"58\": \"away\", \"59\": \"some\", \"60\": \"all\", \"61\": \"else\", \"62\": \"exams\", \"63\": \"something\", \"64\": \"therapy\", \"65\": \"find\", \"66\": \"difference\", \"67\": \"between\", \"68\": \"bye\", \"69\": \"thank\", \"70\": \"that\\'s\", \"71\": \"very\", \"72\": \"nothing\", \"73\": \"yourself\", \"74\": \"your\", \"75\": \"should\", \"76\": \"what\\'s\", \"77\": \"support\", \"78\": \"out\", \"79\": \"depressed\", \"80\": \"think\", \"81\": \"yeah\", \"82\": \"just\", \"83\": \"sleep\", \"84\": \"sounds\", \"85\": \"this\", \"86\": \"died\", \"87\": \"passed\", \"88\": \"in\", \"89\": \"going\", \"90\": \"hate\", \"91\": \"right\", \"92\": \"advice\", \"93\": \"does\", \"94\": \"treatment\", \"95\": \"hi\", \"96\": \"hey\", \"97\": \"anyone\", \"98\": \"see\", \"99\": \"well\", \"100\": \"thanks\", \"101\": \"created\", \"102\": \"were\", \"103\": \"could\", \"104\": \"please\", \"105\": \"sad\", \"106\": \"anything\", \"107\": \"useless\", \"108\": \"sense\", \"109\": \"anymore\", \"110\": \"happy\", \"111\": \"fine\", \"112\": \"yes\", \"113\": \"really\", \"114\": \"anxious\", \"115\": \"up\", \"116\": \"suffering\", \"117\": \"from\", \"118\": \"haven\\'t\", \"119\": \"days\", \"120\": \"scared\", \"121\": \"someone\", \"122\": \"family\", \"123\": \"say\", \"124\": \"be\", \"125\": \"kill\", \"126\": \"i\\'ve\", \"127\": \"friends\", \"128\": \"joke\", \"129\": \"another\", \"130\": \"already\", \"131\": \"why\", \"132\": \"wrong\", \"133\": \"dumb\", \"134\": \"any\", \"135\": \"probably\", \"136\": \"guess\", \"137\": \"useful\", \"138\": \"better\", \"139\": \"on\", \"140\": \"fact\", \"141\": \"define\", \"142\": \"therapist\", \"143\": \"causes\", \"144\": \"professional\", \"145\": \"or\", \"146\": \"child\", \"147\": \"professionals\", \"148\": \"types\", \"149\": \"sadness\", \"150\": \"hello\", \"151\": \"howdy\", \"152\": \"hola\", \"153\": \"bonjour\", \"154\": \"konnichiwa\", \"155\": \"guten\", \"156\": \"tag\", \"157\": \"ola\", \"158\": \"morning\", \"159\": \"afternoon\", \"160\": \"evening\", \"161\": \"night\", \"162\": \"later\", \"163\": \"goodbye\", \"164\": \"au\", \"165\": \"revoir\", \"166\": \"sayonara\", \"167\": \"then\", \"168\": \"fare\", \"169\": \"thee\", \"170\": \"helpful\", \"171\": \"than\", \"172\": \"call\", \"173\": \"made\", \"174\": \"by\", \"175\": \"give\", \"176\": \"hand\", \"177\": \"feeling\", \"178\": \"down\", \"179\": \"empty\", \"180\": \"stuck\", \"181\": \"still\", \"182\": \"burned\", \"183\": \"worthless\", \"184\": \"one\", \"185\": \"likes\", \"186\": \"makes\", \"187\": \"take\", \"188\": \"great\", \"189\": \"today\", \"190\": \"cheerful\", \"191\": \"oh\", \"192\": \"okay\", \"193\": \"nice\", \"194\": \"whatever\", \"195\": \"k\", \"196\": \"stay\", \"197\": \"bring\", \"198\": \"open\", \"199\": \"shut\", \"200\": \"insominia\", \"201\": \"insomnia\", \"202\": \"slept\", \"203\": \"last\", \"204\": \"seem\", \"205\": \"had\", \"206\": \"proper\", \"207\": \"past\", \"208\": \"few\", \"209\": \"awful\", \"210\": \"way\", \"211\": \"mom\", \"212\": \"brother\", \"213\": \"dad\", \"214\": \"sister\", \"215\": \"friend\", \"216\": \"understand\", \"217\": \"robot\", \"218\": \"possibly\", \"219\": \"through\", \"220\": \"nobody\", \"221\": \"understands\", \"222\": \"thought\", \"223\": \"killing\", \"224\": \"die\", \"225\": \"commit\", \"226\": \"suicide\", \"227\": \"trust\", \"228\": \"relationship\", \"229\": \"boyfriend\", \"230\": \"girlfriend\", \"231\": \"money\", \"232\": \"financial\", \"233\": \"told\", \"234\": \"mentioned\", \"235\": \"repeating\", \"236\": \"saying\", \"237\": \"doesn\\'t\", \"238\": \"make\", \"239\": \"response\", \"240\": \"answer\", \"241\": \"stupid\", \"242\": \"crazy\", \"243\": \"live\", \"244\": \"location\", \"245\": \"let\\'s\", \"246\": \"we\", \"247\": \"ask\", \"248\": \"approaching\", \"249\": \"prepared\", \"250\": \"enough\", \"251\": \"sure\", \"252\": \"deserve\", \"253\": \"break\", \"254\": \"absolutely\", \"255\": \"hmmm\", \"256\": \"did\", \"257\": \"said\", \"258\": \"alot\", \"259\": \"now\", \"260\": \"again\", \"261\": \"i\\'ll\", \"262\": \"continue\", \"263\": \"practicing\", \"264\": \"meditation\", \"265\": \"focus\", \"266\": \"control\", \"267\": \"interested\", \"268\": \"learning\", \"269\": \"important\", \"270\": \"importance\", \"271\": \"mentally\", \"272\": \"ill\", \"273\": \"mean\", \"274\": \"affect\", \"275\": \"warning\", \"276\": \"signs\", \"277\": \"people\", \"278\": \"with\", \"279\": \"recover\", \"280\": \"appears\", \"281\": \"symptoms\", \"282\": \"disorder\", \"283\": \"options\", \"284\": \"available\", \"285\": \"become\", \"286\": \"involved\", \"287\": \"get\", \"288\": \"before\", \"289\": \"starting\", \"290\": \"new\", \"291\": \"medication\", \"292\": \"different\", \"293\": \"group\", \"294\": \"prevent\", \"295\": \"cures\", \"296\": \"cure\", \"297\": \"worried\", \"298\": \"unwell\", \"299\": \"maintain\", \"300\": \"social\", \"301\": \"connections\", \"302\": \"anxiety\", \"303\": \"stress\"}',\n",
              " 'word_index': '{\"i\": 1, \"you\": 2, \"what\": 3, \"mental\": 4, \"to\": 5, \"about\": 6, \"me\": 7, \"health\": 8, \"am\": 9, \"can\": 10, \"feel\": 11, \"are\": 12, \"do\": 13, \"is\": 14, \"my\": 15, \"a\": 16, \"don\\'t\": 17, \"for\": 18, \"the\": 19, \"so\": 20, \"have\": 21, \"i\\'m\": 22, \"want\": 23, \"how\": 24, \"of\": 25, \"that\": 26, \"know\": 27, \"can\\'t\": 28, \"it\": 29, \"depression\": 30, \"myself\": 31, \"help\": 32, \"who\": 33, \"tell\": 34, \"more\": 35, \"need\": 36, \"like\": 37, \"where\": 38, \"learn\": 39, \"if\": 40, \"there\": 41, \"good\": 42, \"no\": 43, \"not\": 44, \"talk\": 45, \"you\\'re\": 46, \"would\": 47, \"problems\": 48, \"and\": 49, \"illness\": 50, \"ok\": 51, \"much\": 52, \"name\": 53, \"go\": 54, \"lonely\": 55, \"stressed\": 56, \"because\": 57, \"away\": 58, \"some\": 59, \"all\": 60, \"else\": 61, \"exams\": 62, \"something\": 63, \"therapy\": 64, \"find\": 65, \"difference\": 66, \"between\": 67, \"bye\": 68, \"thank\": 69, \"that\\'s\": 70, \"very\": 71, \"nothing\": 72, \"yourself\": 73, \"your\": 74, \"should\": 75, \"what\\'s\": 76, \"support\": 77, \"out\": 78, \"depressed\": 79, \"think\": 80, \"yeah\": 81, \"just\": 82, \"sleep\": 83, \"sounds\": 84, \"this\": 85, \"died\": 86, \"passed\": 87, \"in\": 88, \"going\": 89, \"hate\": 90, \"right\": 91, \"advice\": 92, \"does\": 93, \"treatment\": 94, \"hi\": 95, \"hey\": 96, \"anyone\": 97, \"see\": 98, \"well\": 99, \"thanks\": 100, \"created\": 101, \"were\": 102, \"could\": 103, \"please\": 104, \"sad\": 105, \"anything\": 106, \"useless\": 107, \"sense\": 108, \"anymore\": 109, \"happy\": 110, \"fine\": 111, \"yes\": 112, \"really\": 113, \"anxious\": 114, \"up\": 115, \"suffering\": 116, \"from\": 117, \"haven\\'t\": 118, \"days\": 119, \"scared\": 120, \"someone\": 121, \"family\": 122, \"say\": 123, \"be\": 124, \"kill\": 125, \"i\\'ve\": 126, \"friends\": 127, \"joke\": 128, \"another\": 129, \"already\": 130, \"why\": 131, \"wrong\": 132, \"dumb\": 133, \"any\": 134, \"probably\": 135, \"guess\": 136, \"useful\": 137, \"better\": 138, \"on\": 139, \"fact\": 140, \"define\": 141, \"therapist\": 142, \"causes\": 143, \"professional\": 144, \"or\": 145, \"child\": 146, \"professionals\": 147, \"types\": 148, \"sadness\": 149, \"hello\": 150, \"howdy\": 151, \"hola\": 152, \"bonjour\": 153, \"konnichiwa\": 154, \"guten\": 155, \"tag\": 156, \"ola\": 157, \"morning\": 158, \"afternoon\": 159, \"evening\": 160, \"night\": 161, \"later\": 162, \"goodbye\": 163, \"au\": 164, \"revoir\": 165, \"sayonara\": 166, \"then\": 167, \"fare\": 168, \"thee\": 169, \"helpful\": 170, \"than\": 171, \"call\": 172, \"made\": 173, \"by\": 174, \"give\": 175, \"hand\": 176, \"feeling\": 177, \"down\": 178, \"empty\": 179, \"stuck\": 180, \"still\": 181, \"burned\": 182, \"worthless\": 183, \"one\": 184, \"likes\": 185, \"makes\": 186, \"take\": 187, \"great\": 188, \"today\": 189, \"cheerful\": 190, \"oh\": 191, \"okay\": 192, \"nice\": 193, \"whatever\": 194, \"k\": 195, \"stay\": 196, \"bring\": 197, \"open\": 198, \"shut\": 199, \"insominia\": 200, \"insomnia\": 201, \"slept\": 202, \"last\": 203, \"seem\": 204, \"had\": 205, \"proper\": 206, \"past\": 207, \"few\": 208, \"awful\": 209, \"way\": 210, \"mom\": 211, \"brother\": 212, \"dad\": 213, \"sister\": 214, \"friend\": 215, \"understand\": 216, \"robot\": 217, \"possibly\": 218, \"through\": 219, \"nobody\": 220, \"understands\": 221, \"thought\": 222, \"killing\": 223, \"die\": 224, \"commit\": 225, \"suicide\": 226, \"trust\": 227, \"relationship\": 228, \"boyfriend\": 229, \"girlfriend\": 230, \"money\": 231, \"financial\": 232, \"told\": 233, \"mentioned\": 234, \"repeating\": 235, \"saying\": 236, \"doesn\\'t\": 237, \"make\": 238, \"response\": 239, \"answer\": 240, \"stupid\": 241, \"crazy\": 242, \"live\": 243, \"location\": 244, \"let\\'s\": 245, \"we\": 246, \"ask\": 247, \"approaching\": 248, \"prepared\": 249, \"enough\": 250, \"sure\": 251, \"deserve\": 252, \"break\": 253, \"absolutely\": 254, \"hmmm\": 255, \"did\": 256, \"said\": 257, \"alot\": 258, \"now\": 259, \"again\": 260, \"i\\'ll\": 261, \"continue\": 262, \"practicing\": 263, \"meditation\": 264, \"focus\": 265, \"control\": 266, \"interested\": 267, \"learning\": 268, \"important\": 269, \"importance\": 270, \"mentally\": 271, \"ill\": 272, \"mean\": 273, \"affect\": 274, \"warning\": 275, \"signs\": 276, \"people\": 277, \"with\": 278, \"recover\": 279, \"appears\": 280, \"symptoms\": 281, \"disorder\": 282, \"options\": 283, \"available\": 284, \"become\": 285, \"involved\": 286, \"get\": 287, \"before\": 288, \"starting\": 289, \"new\": 290, \"medication\": 291, \"different\": 292, \"group\": 293, \"prevent\": 294, \"cures\": 295, \"cure\": 296, \"worried\": 297, \"unwell\": 298, \"maintain\": 299, \"social\": 300, \"connections\": 301, \"anxiety\": 302, \"stress\": 303}'}"
            ]
          },
          "metadata": {},
          "execution_count": 12
        }
      ]
    },
    {
      "cell_type": "code",
      "source": [
        "vacab_size = len(tokenizer.word_index)\n",
        "print('number of unique words = ', vacab_size)\n",
        "vacab_size = 1000"
      ],
      "metadata": {
        "execution": {
          "iopub.status.busy": "2023-09-17T13:50:41.329956Z",
          "iopub.execute_input": "2023-09-17T13:50:41.332055Z",
          "iopub.status.idle": "2023-09-17T13:50:41.343322Z",
          "shell.execute_reply.started": "2023-09-17T13:50:41.332017Z",
          "shell.execute_reply": "2023-09-17T13:50:41.341917Z"
        },
        "trusted": true,
        "colab": {
          "base_uri": "https://localhost:8080/"
        },
        "id": "gN-qhAlCdnOj",
        "outputId": "ec955f94-b60a-4a2b-9613-e782227d747b"
      },
      "execution_count": 13,
      "outputs": [
        {
          "output_type": "stream",
          "name": "stdout",
          "text": [
            "number of unique words =  303\n"
          ]
        }
      ]
    },
    {
      "cell_type": "code",
      "source": [
        "from tensorflow.keras.preprocessing.sequence import pad_sequences\n",
        "from sklearn.preprocessing import LabelEncoder\n",
        "\n",
        "ptrn2seq = tokenizer.texts_to_sequences(df['patterns'])\n",
        "X = pad_sequences(ptrn2seq, padding='post')\n",
        "print('X shape = ', X.shape)\n",
        "\n",
        "lbl_enc = LabelEncoder()\n",
        "y = lbl_enc.fit_transform(df['tag'])\n",
        "print('y shape = ', y.shape)\n",
        "print('num of classes = ', len(np.unique(y)))"
      ],
      "metadata": {
        "execution": {
          "iopub.status.busy": "2023-09-17T13:50:41.345573Z",
          "iopub.execute_input": "2023-09-17T13:50:41.345991Z",
          "iopub.status.idle": "2023-09-17T13:50:41.378486Z",
          "shell.execute_reply.started": "2023-09-17T13:50:41.345950Z",
          "shell.execute_reply": "2023-09-17T13:50:41.377247Z"
        },
        "trusted": true,
        "colab": {
          "base_uri": "https://localhost:8080/"
        },
        "id": "DqmBPjAhdnOj",
        "outputId": "de9713e9-b2c9-45ea-ab68-359990c05534"
      },
      "execution_count": 14,
      "outputs": [
        {
          "output_type": "stream",
          "name": "stdout",
          "text": [
            "X shape =  (232, 18)\n",
            "y shape =  (232,)\n",
            "num of classes =  80\n"
          ]
        }
      ]
    },
    {
      "cell_type": "code",
      "source": [
        "import tensorflow\n",
        "from tensorflow import keras\n",
        "from tensorflow.keras.models import Sequential\n",
        "from tensorflow.keras.layers import Input, Embedding, LSTM, LayerNormalization, Dense, Dropout\n",
        "\n",
        "model = Sequential()\n",
        "model.add(Input(shape=(X.shape[1])))\n",
        "model.add(Embedding(input_dim=vacab_size+1, output_dim=100))\n",
        "model.add(LSTM(32, return_sequences=True))\n",
        "model.add(LayerNormalization())\n",
        "model.add(LSTM(32, return_sequences=True))\n",
        "model.add(LayerNormalization())\n",
        "model.add(LSTM(32))\n",
        "model.add(LayerNormalization())\n",
        "model.add(Dense(128, activation=\"relu\"))\n",
        "model.add(LayerNormalization())\n",
        "model.add(Dropout(0.2))\n",
        "model.add(Dense(len(np.unique(y)), activation=\"softmax\"))\n",
        "model.compile(optimizer='adam', loss=\"sparse_categorical_crossentropy\", metrics=['accuracy'])\n",
        "\n",
        "model.summary()\n"
      ],
      "metadata": {
        "execution": {
          "iopub.status.busy": "2023-09-17T13:50:41.380120Z",
          "iopub.execute_input": "2023-09-17T13:50:41.384540Z",
          "iopub.status.idle": "2023-09-17T13:50:42.318438Z",
          "shell.execute_reply.started": "2023-09-17T13:50:41.384494Z",
          "shell.execute_reply": "2023-09-17T13:50:42.317648Z"
        },
        "trusted": true,
        "colab": {
          "base_uri": "https://localhost:8080/"
        },
        "id": "mqSbKA06dnOj",
        "outputId": "d5288697-c20b-4ea2-c01c-e995725cb8bf"
      },
      "execution_count": 15,
      "outputs": [
        {
          "output_type": "stream",
          "name": "stdout",
          "text": [
            "Model: \"sequential\"\n",
            "_________________________________________________________________\n",
            " Layer (type)                Output Shape              Param #   \n",
            "=================================================================\n",
            " embedding (Embedding)       (None, 18, 100)           100100    \n",
            "                                                                 \n",
            " lstm (LSTM)                 (None, 18, 32)            17024     \n",
            "                                                                 \n",
            " layer_normalization (Layer  (None, 18, 32)            64        \n",
            " Normalization)                                                  \n",
            "                                                                 \n",
            " lstm_1 (LSTM)               (None, 18, 32)            8320      \n",
            "                                                                 \n",
            " layer_normalization_1 (Lay  (None, 18, 32)            64        \n",
            " erNormalization)                                                \n",
            "                                                                 \n",
            " lstm_2 (LSTM)               (None, 32)                8320      \n",
            "                                                                 \n",
            " layer_normalization_2 (Lay  (None, 32)                64        \n",
            " erNormalization)                                                \n",
            "                                                                 \n",
            " dense (Dense)               (None, 128)               4224      \n",
            "                                                                 \n",
            " layer_normalization_3 (Lay  (None, 128)               256       \n",
            " erNormalization)                                                \n",
            "                                                                 \n",
            " dropout (Dropout)           (None, 128)               0         \n",
            "                                                                 \n",
            " dense_1 (Dense)             (None, 80)                10320     \n",
            "                                                                 \n",
            "=================================================================\n",
            "Total params: 148756 (581.08 KB)\n",
            "Trainable params: 148756 (581.08 KB)\n",
            "Non-trainable params: 0 (0.00 Byte)\n",
            "_________________________________________________________________\n"
          ]
        }
      ]
    },
    {
      "cell_type": "markdown",
      "source": [
        "# Split the data  "
      ],
      "metadata": {
        "id": "ER2LeU33dnOj"
      }
    },
    {
      "cell_type": "code",
      "source": [
        "model_history = model.fit(x=X,\n",
        "                          y=y,\n",
        "                          batch_size=10,\n",
        "                          callbacks=[tensorflow.keras.callbacks.EarlyStopping(monitor='accuracy', patience=3)],\n",
        "                          epochs=100)"
      ],
      "metadata": {
        "execution": {
          "iopub.status.busy": "2023-09-17T13:50:42.319539Z",
          "iopub.execute_input": "2023-09-17T13:50:42.319968Z",
          "iopub.status.idle": "2023-09-17T13:51:06.344166Z",
          "shell.execute_reply.started": "2023-09-17T13:50:42.319941Z",
          "shell.execute_reply": "2023-09-17T13:51:06.343030Z"
        },
        "trusted": true,
        "colab": {
          "base_uri": "https://localhost:8080/"
        },
        "id": "aLE9_S8KdnOk",
        "outputId": "49c7cb65-51af-4e65-df2a-ac2ac306cabf"
      },
      "execution_count": 16,
      "outputs": [
        {
          "output_type": "stream",
          "name": "stdout",
          "text": [
            "Epoch 1/100\n",
            "24/24 [==============================] - 9s 43ms/step - loss: 4.8516 - accuracy: 0.0302\n",
            "Epoch 2/100\n",
            "24/24 [==============================] - 1s 26ms/step - loss: 4.3614 - accuracy: 0.0216\n",
            "Epoch 3/100\n",
            "24/24 [==============================] - 1s 28ms/step - loss: 4.0802 - accuracy: 0.0647\n",
            "Epoch 4/100\n",
            "24/24 [==============================] - 1s 27ms/step - loss: 3.7409 - accuracy: 0.0905\n",
            "Epoch 5/100\n",
            "24/24 [==============================] - 1s 27ms/step - loss: 3.4051 - accuracy: 0.1638\n",
            "Epoch 6/100\n",
            "24/24 [==============================] - 1s 27ms/step - loss: 3.0203 - accuracy: 0.2328\n",
            "Epoch 7/100\n",
            "24/24 [==============================] - 1s 27ms/step - loss: 2.5953 - accuracy: 0.3233\n",
            "Epoch 8/100\n",
            "24/24 [==============================] - 1s 27ms/step - loss: 2.3299 - accuracy: 0.3922\n",
            "Epoch 9/100\n",
            "24/24 [==============================] - 1s 27ms/step - loss: 2.0095 - accuracy: 0.4526\n",
            "Epoch 10/100\n",
            "24/24 [==============================] - 1s 27ms/step - loss: 1.7375 - accuracy: 0.5603\n",
            "Epoch 11/100\n",
            "24/24 [==============================] - 1s 28ms/step - loss: 1.6265 - accuracy: 0.5948\n",
            "Epoch 12/100\n",
            "24/24 [==============================] - 1s 27ms/step - loss: 1.3793 - accuracy: 0.6509\n",
            "Epoch 13/100\n",
            "24/24 [==============================] - 1s 27ms/step - loss: 1.2419 - accuracy: 0.6983\n",
            "Epoch 14/100\n",
            "24/24 [==============================] - 1s 28ms/step - loss: 1.0421 - accuracy: 0.7759\n",
            "Epoch 15/100\n",
            "24/24 [==============================] - 1s 27ms/step - loss: 0.8720 - accuracy: 0.8060\n",
            "Epoch 16/100\n",
            "24/24 [==============================] - 1s 36ms/step - loss: 0.8244 - accuracy: 0.8147\n",
            "Epoch 17/100\n",
            "24/24 [==============================] - 1s 40ms/step - loss: 0.6519 - accuracy: 0.8578\n",
            "Epoch 18/100\n",
            "24/24 [==============================] - 1s 40ms/step - loss: 0.5571 - accuracy: 0.8966\n",
            "Epoch 19/100\n",
            "24/24 [==============================] - 1s 31ms/step - loss: 0.4567 - accuracy: 0.9267\n",
            "Epoch 20/100\n",
            "24/24 [==============================] - 1s 27ms/step - loss: 0.3670 - accuracy: 0.9483\n",
            "Epoch 21/100\n",
            "24/24 [==============================] - 1s 28ms/step - loss: 0.3602 - accuracy: 0.9138\n",
            "Epoch 22/100\n",
            "24/24 [==============================] - 1s 28ms/step - loss: 0.3109 - accuracy: 0.9483\n",
            "Epoch 23/100\n",
            "24/24 [==============================] - 1s 28ms/step - loss: 0.2718 - accuracy: 0.9612\n",
            "Epoch 24/100\n",
            "24/24 [==============================] - 1s 27ms/step - loss: 0.2688 - accuracy: 0.9612\n",
            "Epoch 25/100\n",
            "24/24 [==============================] - 1s 28ms/step - loss: 0.3550 - accuracy: 0.9267\n",
            "Epoch 26/100\n",
            "24/24 [==============================] - 1s 28ms/step - loss: 0.3032 - accuracy: 0.9612\n"
          ]
        }
      ]
    },
    {
      "cell_type": "markdown",
      "source": [
        "#  Model Testing\n"
      ],
      "metadata": {
        "id": "LOjTGRYHdnOk"
      }
    },
    {
      "cell_type": "markdown",
      "source": [
        "#### First we should apply some text preprocessing on the pattern that is passed to the function. Next we convert the text to vector of numbers and give it to model for prediction its tag; Finally based on the tag, we choose a answer(response) randomly and return it.\n",
        "\n"
      ],
      "metadata": {
        "id": "6nuWd08WdnOk"
      }
    },
    {
      "cell_type": "code",
      "source": [
        "import re\n",
        "import random\n",
        "\n",
        "def generate_answer():\n",
        "    while True:\n",
        "        pattern=input()\n",
        "        text = []\n",
        "        txt = re.sub('[^a-zA-Z\\']', ' ', pattern)\n",
        "        txt = txt.lower()\n",
        "        txt = txt.split()\n",
        "        txt = \" \".join(txt)\n",
        "        text.append(txt)\n",
        "\n",
        "        x_test = tokenizer.texts_to_sequences(text)\n",
        "        x_test = np.array(x_test).squeeze()\n",
        "        x_test = pad_sequences([x_test], padding='post', maxlen=X.shape[1])\n",
        "        y_pred = model.predict(x_test)\n",
        "        y_pred = y_pred.argmax()\n",
        "        tag = lbl_enc.inverse_transform([y_pred])[0]\n",
        "        responses = df[df['tag'] == tag]['responses'].values[0]\n",
        "        print(\"model: {}\".format(random.choice(responses)))\n",
        "        if pattern=='quite':\n",
        "            break;"
      ],
      "metadata": {
        "execution": {
          "iopub.status.busy": "2023-09-17T13:52:12.978571Z",
          "iopub.execute_input": "2023-09-17T13:52:12.979485Z",
          "iopub.status.idle": "2023-09-17T13:52:12.993559Z",
          "shell.execute_reply.started": "2023-09-17T13:52:12.979443Z",
          "shell.execute_reply": "2023-09-17T13:52:12.992550Z"
        },
        "trusted": true,
        "id": "ixjpTQltdnOk"
      },
      "execution_count": 17,
      "outputs": []
    },
    {
      "cell_type": "code",
      "source": [
        "generate_answer()"
      ],
      "metadata": {
        "execution": {
          "iopub.status.busy": "2023-09-17T13:52:13.327487Z",
          "iopub.execute_input": "2023-09-17T13:52:13.328024Z",
          "iopub.status.idle": "2023-09-17T13:57:28.761223Z",
          "shell.execute_reply.started": "2023-09-17T13:52:13.327983Z",
          "shell.execute_reply": "2023-09-17T13:57:28.759553Z"
        },
        "trusted": true,
        "colab": {
          "base_uri": "https://localhost:8080/"
        },
        "id": "HXWLAIE7dnOk",
        "outputId": "41e4f726-f525-4bef-c2f1-ef680b0af61a"
      },
      "execution_count": 18,
      "outputs": [
        {
          "output_type": "stream",
          "name": "stdout",
          "text": [
            " Is anyone there?\n",
            "1/1 [==============================] - 1s 1s/step\n",
            "model: Hello there. Glad to see you're back. What's going on in your world right now?\n",
            "Good morning\n",
            "1/1 [==============================] - 0s 26ms/step\n",
            "model: Good evening. How has your day been?\n",
            "I am sad\n",
            "1/1 [==============================] - 0s 27ms/step\n",
            "model: Why do you think you feel this way?\n",
            "probably because of my exams\n",
            "1/1 [==============================] - 0s 25ms/step\n",
            "model: I see. Have you taken any approaches to not feel this way?\n",
            "I guess not. All I can think about are my exams\n",
            "1/1 [==============================] - 0s 27ms/step\n",
            "model: That's no problem. I can see why you'd be stressed out about that. I can suggest you some tips to alleviate this issue. Would you like to learn more about that?\n",
            " Yeah you're absolutely right about that\n",
            "1/1 [==============================] - 0s 24ms/step\n",
            "model: Next, I would suggest you to practice meditation. Meditation can produce a deep state of relaxation and a tranquil mind.\n",
            "thank you\n",
            "1/1 [==============================] - 0s 36ms/step\n",
            "model: You're most welcome!\n",
            "quite\n",
            "1/1 [==============================] - 0s 22ms/step\n",
            "model: Sorry, I didn't understand you.\n"
          ]
        }
      ]
    },
    {
      "cell_type": "code",
      "source": [],
      "metadata": {
        "id": "OJkF34D6dnOk"
      },
      "execution_count": 18,
      "outputs": []
    },
    {
      "cell_type": "code",
      "source": [],
      "metadata": {
        "id": "mtfuYTU1dnOl"
      },
      "execution_count": 18,
      "outputs": []
    }
  ]
}