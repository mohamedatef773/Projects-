{
 "cells": [
  {
   "cell_type": "markdown",
   "id": "2c44fd61-8841-4fec-a8b9-f117ee730a1d",
   "metadata": {
    "id": "2c44fd61-8841-4fec-a8b9-f117ee730a1d"
   },
   "source": [
    "## import Liberaries"
   ]
  },
  {
   "cell_type": "code",
   "execution_count": 2,
   "id": "b6e3a67c-183f-4524-b331-8952a37afe38",
   "metadata": {
    "id": "b6e3a67c-183f-4524-b331-8952a37afe38"
   },
   "outputs": [],
   "source": [
    "import pandas as pd \n",
    "import matplotlib.pyplot as plt \n",
    "import seaborn as sns \n",
    "import numpy as np \n",
    "import warnings\n",
    "warnings.filterwarnings('ignore')"
   ]
  },
  {
   "cell_type": "code",
   "execution_count": 3,
   "id": "678170e7-ade0-4e94-a360-022e85e75d80",
   "metadata": {
    "id": "678170e7-ade0-4e94-a360-022e85e75d80",
    "outputId": "3b6d76c1-4531-40c5-ead7-871bab48b695"
   },
   "outputs": [
    {
     "data": {
      "text/html": [
       "<div>\n",
       "<style scoped>\n",
       "    .dataframe tbody tr th:only-of-type {\n",
       "        vertical-align: middle;\n",
       "    }\n",
       "\n",
       "    .dataframe tbody tr th {\n",
       "        vertical-align: top;\n",
       "    }\n",
       "\n",
       "    .dataframe thead th {\n",
       "        text-align: right;\n",
       "    }\n",
       "</style>\n",
       "<table border=\"1\" class=\"dataframe\">\n",
       "  <thead>\n",
       "    <tr style=\"text-align: right;\">\n",
       "      <th></th>\n",
       "      <th>Booking_ID</th>\n",
       "      <th>no_of_adults</th>\n",
       "      <th>no_of_children</th>\n",
       "      <th>no_of_weekend_nights</th>\n",
       "      <th>no_of_week_nights</th>\n",
       "      <th>type_of_meal_plan</th>\n",
       "      <th>required_car_parking_space</th>\n",
       "      <th>room_type_reserved</th>\n",
       "      <th>lead_time</th>\n",
       "      <th>arrival_year</th>\n",
       "      <th>arrival_month</th>\n",
       "      <th>arrival_date</th>\n",
       "      <th>market_segment_type</th>\n",
       "      <th>repeated_guest</th>\n",
       "      <th>no_of_previous_cancellations</th>\n",
       "      <th>no_of_previous_bookings_not_canceled</th>\n",
       "      <th>avg_price_per_room</th>\n",
       "      <th>no_of_special_requests</th>\n",
       "      <th>booking_status</th>\n",
       "    </tr>\n",
       "  </thead>\n",
       "  <tbody>\n",
       "    <tr>\n",
       "      <th>0</th>\n",
       "      <td>INN00001</td>\n",
       "      <td>2</td>\n",
       "      <td>0</td>\n",
       "      <td>1</td>\n",
       "      <td>2</td>\n",
       "      <td>Meal Plan 1</td>\n",
       "      <td>0</td>\n",
       "      <td>Room_Type 1</td>\n",
       "      <td>224</td>\n",
       "      <td>2017</td>\n",
       "      <td>10</td>\n",
       "      <td>2</td>\n",
       "      <td>Offline</td>\n",
       "      <td>0</td>\n",
       "      <td>0</td>\n",
       "      <td>0</td>\n",
       "      <td>65.00</td>\n",
       "      <td>0</td>\n",
       "      <td>Not_Canceled</td>\n",
       "    </tr>\n",
       "    <tr>\n",
       "      <th>1</th>\n",
       "      <td>INN00002</td>\n",
       "      <td>2</td>\n",
       "      <td>0</td>\n",
       "      <td>2</td>\n",
       "      <td>3</td>\n",
       "      <td>Not Selected</td>\n",
       "      <td>0</td>\n",
       "      <td>Room_Type 1</td>\n",
       "      <td>5</td>\n",
       "      <td>2018</td>\n",
       "      <td>11</td>\n",
       "      <td>6</td>\n",
       "      <td>Online</td>\n",
       "      <td>0</td>\n",
       "      <td>0</td>\n",
       "      <td>0</td>\n",
       "      <td>106.68</td>\n",
       "      <td>1</td>\n",
       "      <td>Not_Canceled</td>\n",
       "    </tr>\n",
       "    <tr>\n",
       "      <th>2</th>\n",
       "      <td>INN00003</td>\n",
       "      <td>1</td>\n",
       "      <td>0</td>\n",
       "      <td>2</td>\n",
       "      <td>1</td>\n",
       "      <td>Meal Plan 1</td>\n",
       "      <td>0</td>\n",
       "      <td>Room_Type 1</td>\n",
       "      <td>1</td>\n",
       "      <td>2018</td>\n",
       "      <td>2</td>\n",
       "      <td>28</td>\n",
       "      <td>Online</td>\n",
       "      <td>0</td>\n",
       "      <td>0</td>\n",
       "      <td>0</td>\n",
       "      <td>60.00</td>\n",
       "      <td>0</td>\n",
       "      <td>Canceled</td>\n",
       "    </tr>\n",
       "    <tr>\n",
       "      <th>3</th>\n",
       "      <td>INN00004</td>\n",
       "      <td>2</td>\n",
       "      <td>0</td>\n",
       "      <td>0</td>\n",
       "      <td>2</td>\n",
       "      <td>Meal Plan 1</td>\n",
       "      <td>0</td>\n",
       "      <td>Room_Type 1</td>\n",
       "      <td>211</td>\n",
       "      <td>2018</td>\n",
       "      <td>5</td>\n",
       "      <td>20</td>\n",
       "      <td>Online</td>\n",
       "      <td>0</td>\n",
       "      <td>0</td>\n",
       "      <td>0</td>\n",
       "      <td>100.00</td>\n",
       "      <td>0</td>\n",
       "      <td>Canceled</td>\n",
       "    </tr>\n",
       "    <tr>\n",
       "      <th>4</th>\n",
       "      <td>INN00005</td>\n",
       "      <td>2</td>\n",
       "      <td>0</td>\n",
       "      <td>1</td>\n",
       "      <td>1</td>\n",
       "      <td>Not Selected</td>\n",
       "      <td>0</td>\n",
       "      <td>Room_Type 1</td>\n",
       "      <td>48</td>\n",
       "      <td>2018</td>\n",
       "      <td>4</td>\n",
       "      <td>11</td>\n",
       "      <td>Online</td>\n",
       "      <td>0</td>\n",
       "      <td>0</td>\n",
       "      <td>0</td>\n",
       "      <td>94.50</td>\n",
       "      <td>0</td>\n",
       "      <td>Canceled</td>\n",
       "    </tr>\n",
       "  </tbody>\n",
       "</table>\n",
       "</div>"
      ],
      "text/plain": [
       "  Booking_ID  no_of_adults  no_of_children  no_of_weekend_nights  \\\n",
       "0   INN00001             2               0                     1   \n",
       "1   INN00002             2               0                     2   \n",
       "2   INN00003             1               0                     2   \n",
       "3   INN00004             2               0                     0   \n",
       "4   INN00005             2               0                     1   \n",
       "\n",
       "   no_of_week_nights type_of_meal_plan  required_car_parking_space  \\\n",
       "0                  2       Meal Plan 1                           0   \n",
       "1                  3      Not Selected                           0   \n",
       "2                  1       Meal Plan 1                           0   \n",
       "3                  2       Meal Plan 1                           0   \n",
       "4                  1      Not Selected                           0   \n",
       "\n",
       "  room_type_reserved  lead_time  arrival_year  arrival_month  arrival_date  \\\n",
       "0        Room_Type 1        224          2017             10             2   \n",
       "1        Room_Type 1          5          2018             11             6   \n",
       "2        Room_Type 1          1          2018              2            28   \n",
       "3        Room_Type 1        211          2018              5            20   \n",
       "4        Room_Type 1         48          2018              4            11   \n",
       "\n",
       "  market_segment_type  repeated_guest  no_of_previous_cancellations  \\\n",
       "0             Offline               0                             0   \n",
       "1              Online               0                             0   \n",
       "2              Online               0                             0   \n",
       "3              Online               0                             0   \n",
       "4              Online               0                             0   \n",
       "\n",
       "   no_of_previous_bookings_not_canceled  avg_price_per_room  \\\n",
       "0                                     0               65.00   \n",
       "1                                     0              106.68   \n",
       "2                                     0               60.00   \n",
       "3                                     0              100.00   \n",
       "4                                     0               94.50   \n",
       "\n",
       "   no_of_special_requests booking_status  \n",
       "0                       0   Not_Canceled  \n",
       "1                       1   Not_Canceled  \n",
       "2                       0       Canceled  \n",
       "3                       0       Canceled  \n",
       "4                       0       Canceled  "
      ]
     },
     "execution_count": 3,
     "metadata": {},
     "output_type": "execute_result"
    }
   ],
   "source": [
    "data=pd.read_csv('Hotel Reservations.csv')\n",
    "data.head()"
   ]
  },
  {
   "cell_type": "code",
   "execution_count": 3,
   "id": "25ff8a26-701f-4491-a101-cd1028d616e0",
   "metadata": {
    "id": "25ff8a26-701f-4491-a101-cd1028d616e0"
   },
   "outputs": [],
   "source": [
    "data.drop('Booking_ID',axis=1,inplace=True)"
   ]
  },
  {
   "cell_type": "code",
   "execution_count": 4,
   "id": "c7fb3d14-92ae-4182-9e05-88fca0d0caad",
   "metadata": {
    "id": "c7fb3d14-92ae-4182-9e05-88fca0d0caad",
    "outputId": "d5dc87b0-6385-4034-f0e0-c14417730e96"
   },
   "outputs": [],
   "source": [
    "#check duplicates\n",
    "data.duplicated().sum()"
   ]
  },
  {
   "cell_type": "code",
   "execution_count": 5,
   "id": "982e4aa2-5193-4c6e-b385-eb70517d1a2c",
   "metadata": {
    "id": "982e4aa2-5193-4c6e-b385-eb70517d1a2c",
    "outputId": "6e1a48a9-5d0d-4ed7-8e9a-19898381855b"
   },
   "outputs": [],
   "source": [
    "data.shape"
   ]
  },
  {
   "cell_type": "code",
   "execution_count": 6,
   "id": "59985618-0bcd-4c2c-9bee-d3325354988a",
   "metadata": {
    "id": "59985618-0bcd-4c2c-9bee-d3325354988a"
   },
   "outputs": [],
   "source": [
    "data.drop_duplicates(inplace=True)"
   ]
  },
  {
   "cell_type": "code",
   "execution_count": 7,
   "id": "8e2c3386-607c-4d48-af59-cd07f1e52f73",
   "metadata": {
    "id": "8e2c3386-607c-4d48-af59-cd07f1e52f73",
    "outputId": "c5793356-611f-43e9-e181-f6e4f9d11e72"
   },
   "outputs": [],
   "source": [
    "data.index"
   ]
  },
  {
   "cell_type": "code",
   "execution_count": 8,
   "id": "d7bae82d-4e35-4659-9ca1-57e78d069909",
   "metadata": {
    "id": "d7bae82d-4e35-4659-9ca1-57e78d069909",
    "outputId": "41897d92-a98f-497d-c527-0ede3bc3e888"
   },
   "outputs": [],
   "source": [
    "data.reset_index(inplace=True)\n",
    "data.head()"
   ]
  },
  {
   "cell_type": "code",
   "execution_count": 9,
   "id": "370aa3f1-2223-47a4-b88f-a53c281678b0",
   "metadata": {
    "id": "370aa3f1-2223-47a4-b88f-a53c281678b0"
   },
   "outputs": [],
   "source": [
    "data.drop('index',inplace=True,axis=1)"
   ]
  },
  {
   "cell_type": "code",
   "execution_count": 10,
   "id": "19c880ee-1e6f-439e-92d7-cbd71e40b0f8",
   "metadata": {
    "id": "19c880ee-1e6f-439e-92d7-cbd71e40b0f8",
    "outputId": "a09deed0-077d-4442-8833-846d67315c19"
   },
   "outputs": [],
   "source": [
    "data.head()"
   ]
  },
  {
   "cell_type": "code",
   "execution_count": 11,
   "id": "30f3f558-3504-4c0b-b21d-1cfdff13a440",
   "metadata": {
    "id": "30f3f558-3504-4c0b-b21d-1cfdff13a440"
   },
   "outputs": [],
   "source": [
    "def column_info(data):\n",
    "    cols=[]\n",
    "    dtypes=[]\n",
    "    n_uniques=[]\n",
    "    v_uniques=[]\n",
    "    null_per=[]\n",
    "    \n",
    "    for col in data.columns:\n",
    "        cols.append(col)\n",
    "        dtypes.append(data[col].dtype)\n",
    "        v_uniques.append(data[col].unique())\n",
    "        n_uniques.append(data[col].nunique())\n",
    "        null_per.append(data[col].isna().sum()/len(data))\n",
    "        \n",
    "    return pd.DataFrame({'column':cols,'dtype':dtypes,'unique values':v_uniques,'n_unique':n_uniques,'null per':null_per})\n"
   ]
  },
  {
   "cell_type": "code",
   "execution_count": 12,
   "id": "453d080c-6f00-4adf-833d-45947feb6382",
   "metadata": {
    "id": "453d080c-6f00-4adf-833d-45947feb6382",
    "outputId": "a1a7feae-148d-4c4c-9f6b-490048907905"
   },
   "outputs": [],
   "source": [
    "column_info(data)"
   ]
  },
  {
   "cell_type": "code",
   "execution_count": 13,
   "id": "87c2108f-6214-40ee-96cf-73477774dc55",
   "metadata": {
    "id": "87c2108f-6214-40ee-96cf-73477774dc55",
    "outputId": "0a3bafd7-b8e2-49c7-ba17-2320fec516f2"
   },
   "outputs": [],
   "source": [
    "data[data['no_of_adults']==0]['booking_status'].value_counts()"
   ]
  },
  {
   "cell_type": "code",
   "execution_count": 14,
   "id": "e011debd-c3b2-4b0a-ac1e-53a672eb5a9c",
   "metadata": {
    "id": "e011debd-c3b2-4b0a-ac1e-53a672eb5a9c",
    "outputId": "52d397f0-7dd2-458e-d50f-4059968b6322"
   },
   "outputs": [],
   "source": [
    "data[data['no_of_adults']==0]['no_of_children'].value_counts()"
   ]
  },
  {
   "cell_type": "code",
   "execution_count": 15,
   "id": "b79f2e7b-c32d-4581-9ca7-afec17927de7",
   "metadata": {
    "id": "b79f2e7b-c32d-4581-9ca7-afec17927de7",
    "outputId": "d38153ee-ce59-4aa5-e702-493c829f9aa8"
   },
   "outputs": [],
   "source": [
    "#no_of_childern\n",
    "data[data['no_of_children']==10]"
   ]
  },
  {
   "cell_type": "code",
   "execution_count": 16,
   "id": "558f3f6c-99ac-463d-b1fd-567c313ac377",
   "metadata": {
    "id": "558f3f6c-99ac-463d-b1fd-567c313ac377",
    "outputId": "e4056b4b-cf43-4e7d-f365-ccf9c1664a74"
   },
   "outputs": [],
   "source": [
    "data[data['no_of_children']==9]"
   ]
  },
  {
   "cell_type": "code",
   "execution_count": 17,
   "id": "f56bea2f-b86f-429d-9346-00b102014fd5",
   "metadata": {
    "id": "f56bea2f-b86f-429d-9346-00b102014fd5",
    "outputId": "5cd27a97-ad0c-41dc-b982-246265787a82"
   },
   "outputs": [],
   "source": [
    "data['no_of_children'].value_counts()"
   ]
  },
  {
   "cell_type": "code",
   "execution_count": 18,
   "id": "99556775-3095-4426-b31f-7026dbf9fdba",
   "metadata": {
    "id": "99556775-3095-4426-b31f-7026dbf9fdba",
    "outputId": "e2417a5a-f5cd-488c-8c8c-698dc57ee066"
   },
   "outputs": [],
   "source": [
    "data['no_of_children'].describe()"
   ]
  },
  {
   "cell_type": "code",
   "execution_count": 19,
   "id": "52670561-32c9-496a-a8ee-254f6b222181",
   "metadata": {
    "id": "52670561-32c9-496a-a8ee-254f6b222181"
   },
   "outputs": [],
   "source": [
    "data['no_of_children'].replace(10,3,inplace=True)\n",
    "data['no_of_children'].replace(9,3,inplace=True)"
   ]
  },
  {
   "cell_type": "code",
   "execution_count": 20,
   "id": "4b51e470-46cf-447f-80b1-04ad28adf337",
   "metadata": {
    "id": "4b51e470-46cf-447f-80b1-04ad28adf337",
    "outputId": "d180ae08-8dff-42ab-e976-086e87425dc1"
   },
   "outputs": [],
   "source": [
    "column_info(data)"
   ]
  },
  {
   "cell_type": "code",
   "execution_count": 21,
   "id": "19b5b675-6fa1-4ccf-9a4e-661b7407d9f5",
   "metadata": {
    "id": "19b5b675-6fa1-4ccf-9a4e-661b7407d9f5",
    "outputId": "feb3fb08-2309-484f-e35c-f5c00a3337a7"
   },
   "outputs": [],
   "source": [
    "data[data['no_of_weekend_nights']==0]['no_of_week_nights'].value_counts()"
   ]
  },
  {
   "cell_type": "code",
   "execution_count": 22,
   "id": "c7b9f25b-9662-41f3-a7a5-7a2f3d0ab9f5",
   "metadata": {
    "id": "c7b9f25b-9662-41f3-a7a5-7a2f3d0ab9f5"
   },
   "outputs": [],
   "source": [
    "for i in range(len(data)):\n",
    "    if data.loc[i,'no_of_weekend_nights']==0 and data.loc[i,'no_of_week_nights']==0:\n",
    "        data.loc[i,'no_of_week_nights']=1"
   ]
  },
  {
   "cell_type": "code",
   "execution_count": 23,
   "id": "7f15296f-cb43-47d1-abdc-f892b8d20dce",
   "metadata": {
    "id": "7f15296f-cb43-47d1-abdc-f892b8d20dce",
    "outputId": "5b267429-0d93-49d7-c91c-465d6ced99a9"
   },
   "outputs": [],
   "source": [
    "data[data['no_of_weekend_nights']==0]['no_of_week_nights'].value_counts()"
   ]
  },
  {
   "cell_type": "code",
   "execution_count": 24,
   "id": "e3b4935c-5661-4e7a-a513-89866426ce8a",
   "metadata": {
    "id": "e3b4935c-5661-4e7a-a513-89866426ce8a",
    "outputId": "48ecc44e-4776-43da-ea81-7fd6fe0bc398"
   },
   "outputs": [],
   "source": [
    "data['lead_time'].describe()"
   ]
  },
  {
   "cell_type": "code",
   "execution_count": 25,
   "id": "6b585ff6-5ef5-4f57-8003-ffafb2ce4825",
   "metadata": {
    "id": "6b585ff6-5ef5-4f57-8003-ffafb2ce4825",
    "outputId": "33650786-828d-422c-def4-2706a01ea5a7"
   },
   "outputs": [],
   "source": [
    "#avg_price_per_room\n",
    "plt.figure(figsize=(8,6))\n",
    "sns.distplot(data['avg_price_per_room'])\n",
    "plt.show()"
   ]
  },
  {
   "cell_type": "code",
   "execution_count": 26,
   "id": "17dad3fe-8f7e-4d2b-b8db-8cf4b51b0c38",
   "metadata": {
    "id": "17dad3fe-8f7e-4d2b-b8db-8cf4b51b0c38",
    "outputId": "7cb34785-9488-466f-ef58-c9aa3576e3d8"
   },
   "outputs": [],
   "source": [
    "column_info(data)"
   ]
  },
  {
   "cell_type": "code",
   "execution_count": 27,
   "id": "43ce313c-0c5f-449c-85f9-bbb5fc1e5055",
   "metadata": {
    "id": "43ce313c-0c5f-449c-85f9-bbb5fc1e5055"
   },
   "outputs": [],
   "source": [
    "from sklearn.preprocessing import LabelEncoder\n",
    "le=LabelEncoder()\n",
    "data['booking_status']=le.fit_transform(data['booking_status'])"
   ]
  },
  {
   "cell_type": "code",
   "execution_count": 28,
   "id": "8a310062-baac-4fc4-8c07-141d27f010ed",
   "metadata": {
    "id": "8a310062-baac-4fc4-8c07-141d27f010ed",
    "outputId": "96028dba-03e8-4443-9ccf-2de068a75e04"
   },
   "outputs": [],
   "source": [
    "cat_features=[]\n",
    "for col in data.columns:\n",
    "    if data[col].dtype==object:\n",
    "        cat_features.append(col)\n",
    "cat_features"
   ]
  },
  {
   "cell_type": "code",
   "execution_count": 29,
   "id": "27012051-246b-4023-a963-1c5cdb112515",
   "metadata": {
    "id": "27012051-246b-4023-a963-1c5cdb112515"
   },
   "outputs": [],
   "source": [
    "import pickle"
   ]
  },
  {
   "cell_type": "code",
   "execution_count": 30,
   "id": "305dee03-e076-4e76-ac6a-d3a1101faa52",
   "metadata": {
    "id": "305dee03-e076-4e76-ac6a-d3a1101faa52"
   },
   "outputs": [],
   "source": [
    "for col in cat_features:\n",
    "    le=LabelEncoder()\n",
    "    data[col]=le.fit_transform(data[col])\n",
    "    \n",
    "    pickle.dump(le,open(\"{}_le.pkl\".format(col),\"wb\"))"
   ]
  },
  {
   "cell_type": "code",
   "execution_count": null,
   "id": "85cd9368-fe95-4d7f-a519-98de86963466",
   "metadata": {
    "id": "85cd9368-fe95-4d7f-a519-98de86963466"
   },
   "outputs": [],
   "source": []
  },
  {
   "cell_type": "code",
   "execution_count": 31,
   "id": "8921577e-ff78-4836-924e-97cdfbd8bf18",
   "metadata": {
    "id": "8921577e-ff78-4836-924e-97cdfbd8bf18",
    "outputId": "9c3dc3b0-42f0-4183-84e1-c3e32b5b7997"
   },
   "outputs": [],
   "source": [
    "column_info(data)"
   ]
  },
  {
   "cell_type": "code",
   "execution_count": null,
   "id": "044d2865-a22f-4a14-aad8-0aaa9f79c03d",
   "metadata": {
    "id": "044d2865-a22f-4a14-aad8-0aaa9f79c03d"
   },
   "outputs": [],
   "source": []
  },
  {
   "cell_type": "code",
   "execution_count": 32,
   "id": "07554f0e-d069-4a84-8cb3-0171c16299d3",
   "metadata": {
    "id": "07554f0e-d069-4a84-8cb3-0171c16299d3",
    "outputId": "f989d512-74e1-4ed1-d694-59de880961d0"
   },
   "outputs": [],
   "source": [
    "data.columns"
   ]
  },
  {
   "cell_type": "code",
   "execution_count": 33,
   "id": "7b763d30-4321-47d9-9045-30c3521cfc34",
   "metadata": {
    "id": "7b763d30-4321-47d9-9045-30c3521cfc34",
    "outputId": "43c9f97b-60e7-4a5c-8871-bb7c3bdd05b5"
   },
   "outputs": [],
   "source": [
    "data.shape"
   ]
  },
  {
   "cell_type": "code",
   "execution_count": 34,
   "id": "7125e6cc-b7f8-41d6-982a-890e1b9786f2",
   "metadata": {
    "id": "7125e6cc-b7f8-41d6-982a-890e1b9786f2",
    "outputId": "6d16d0c5-21e6-46e0-a53d-10107eeec6d4"
   },
   "outputs": [],
   "source": [
    "#booking status\n",
    "plt.figure(figsize=(8,6))\n",
    "plt.pie(x=data['booking_status'].value_counts(),labels=['Not canceled','Canceled'],explode=[0.0,0.2],autopct='%0.2f%%',shadow=True)\n",
    "plt.show()"
   ]
  },
  {
   "cell_type": "code",
   "execution_count": 35,
   "id": "e5fa3bd8-8aa8-4a26-a86c-11b821dce881",
   "metadata": {
    "id": "e5fa3bd8-8aa8-4a26-a86c-11b821dce881"
   },
   "outputs": [],
   "source": [
    "X=data.drop('booking_status',axis=1).values\n",
    "y=data['booking_status'].values\n",
    "from sklearn.model_selection import train_test_split\n",
    "train_X,test_X,train_y,test_y=train_test_split(X,y,test_size=0.2)"
   ]
  },
  {
   "cell_type": "code",
   "execution_count": 36,
   "id": "65d250ba-401b-4d59-b599-5cef81f235a8",
   "metadata": {
    "id": "65d250ba-401b-4d59-b599-5cef81f235a8"
   },
   "outputs": [],
   "source": [
    "from sklearn.preprocessing import StandardScaler\n",
    "sd=StandardScaler()\n",
    "train_X=sd.fit_transform(train_X)\n",
    "test_X=sd.transform(test_X)\n",
    "pickle.dump(sd,open(\"scaler.pkl\",\"wb\"))"
   ]
  },
  {
   "cell_type": "code",
   "execution_count": 37,
   "id": "42dc0491-deff-46d4-b67c-aa446b351435",
   "metadata": {
    "id": "42dc0491-deff-46d4-b67c-aa446b351435",
    "outputId": "3e156de6-1427-4ac4-b7c3-4af9575c6ff5"
   },
   "outputs": [],
   "source": [
    "from sklearn.linear_model import LogisticRegression\n",
    "model=LogisticRegression(class_weight='balanced')\n",
    "model.fit(train_X,train_y)"
   ]
  },
  {
   "cell_type": "code",
   "execution_count": 38,
   "id": "c7f2dd8f-7e67-40bb-8c6c-c699dbb6f24b",
   "metadata": {
    "id": "c7f2dd8f-7e67-40bb-8c6c-c699dbb6f24b"
   },
   "outputs": [],
   "source": [
    "from sklearn.metrics import accuracy_score,recall_score,precision_score,confusion_matrix,f1_score\n",
    "def evaluate_model(X,y,model):\n",
    "    y_pred=model.predict(X)\n",
    "    \n",
    "    #acc\n",
    "    acc=accuracy_score(y_pred,y)\n",
    "    #f1 score\n",
    "    f1=f1_score(y_pred,y)\n",
    "    #recall \n",
    "    recall=recall_score(y_pred,y)\n",
    "    #precision \n",
    "    precision=precision_score(y_pred,y)\n",
    "    #\n",
    "    cm=confusion_matrix(y_pred,y)\n",
    "    \n",
    "    tn,fp,fn,tp=cm.ravel()\n",
    "    specificty=tn/(tn+fp)\n",
    "    return pd.Series({'Accuracy':acc,\"F1 score\":f1,'recall':recall,'precesion':precision,'specificty':specificty})"
   ]
  },
  {
   "cell_type": "code",
   "execution_count": 39,
   "id": "b7fde2b6-bc1a-4c97-91d7-d88820e6711d",
   "metadata": {
    "id": "b7fde2b6-bc1a-4c97-91d7-d88820e6711d",
    "outputId": "f67d3a47-d6fa-4995-a514-18bd393cd202"
   },
   "outputs": [],
   "source": [
    "evaluate_model(train_X,train_y,model)"
   ]
  },
  {
   "cell_type": "code",
   "execution_count": 40,
   "id": "53a37a4f-2950-4385-8638-f9082d281121",
   "metadata": {
    "id": "53a37a4f-2950-4385-8638-f9082d281121",
    "outputId": "bc489fcb-94b6-47f3-8e85-db1e1714f00a"
   },
   "outputs": [],
   "source": [
    "evaluate_model(test_X,test_y,model)"
   ]
  },
  {
   "cell_type": "code",
   "execution_count": 41,
   "id": "0c7b7fe4-bc02-460e-a096-8d3fda9161e4",
   "metadata": {
    "id": "0c7b7fe4-bc02-460e-a096-8d3fda9161e4",
    "outputId": "5b3058c4-0ac4-4e0f-f2c3-f9044bc189ba"
   },
   "outputs": [],
   "source": [
    "from sklearn.ensemble import RandomForestClassifier\n",
    "model=RandomForestClassifier(class_weight='balanced',max_depth=10)\n",
    "model.fit(train_X,train_y)"
   ]
  },
  {
   "cell_type": "code",
   "execution_count": 42,
   "id": "139b315b-82d1-43f2-93ea-0c833e095ede",
   "metadata": {
    "id": "139b315b-82d1-43f2-93ea-0c833e095ede",
    "outputId": "55d5d879-20f4-4845-96bf-219f3998c296"
   },
   "outputs": [],
   "source": [
    "evaluate_model(train_X,train_y,model)"
   ]
  },
  {
   "cell_type": "code",
   "execution_count": 43,
   "id": "cbcd9593-3035-4d7d-b260-0ad38cb03073",
   "metadata": {
    "id": "cbcd9593-3035-4d7d-b260-0ad38cb03073",
    "outputId": "e75c2218-4685-4cf7-fc70-4c3f61c70076"
   },
   "outputs": [],
   "source": [
    "evaluate_model(test_X,test_y,model)\n"
   ]
  },
  {
   "cell_type": "code",
   "execution_count": 44,
   "id": "8ef4aa8b-f392-4eca-97a3-83cad5f74805",
   "metadata": {
    "id": "8ef4aa8b-f392-4eca-97a3-83cad5f74805"
   },
   "outputs": [],
   "source": [
    "import pickle \n",
    "pickle.dump(model,open('model.pkl','wb'))"
   ]
  },
  {
   "cell_type": "code",
   "execution_count": 4,
   "id": "6426cc38-291d-4d5b-bb40-840ddae32d31",
   "metadata": {
    "id": "6426cc38-291d-4d5b-bb40-840ddae32d31"
   },
   "outputs": [
    {
     "data": {
      "text/plain": [
       "Index(['Booking_ID', 'no_of_adults', 'no_of_children', 'no_of_weekend_nights',\n",
       "       'no_of_week_nights', 'type_of_meal_plan', 'required_car_parking_space',\n",
       "       'room_type_reserved', 'lead_time', 'arrival_year', 'arrival_month',\n",
       "       'arrival_date', 'market_segment_type', 'repeated_guest',\n",
       "       'no_of_previous_cancellations', 'no_of_previous_bookings_not_canceled',\n",
       "       'avg_price_per_room', 'no_of_special_requests', 'booking_status'],\n",
       "      dtype='object')"
      ]
     },
     "execution_count": 4,
     "metadata": {},
     "output_type": "execute_result"
    }
   ],
   "source": [
    "data.columns"
   ]
  },
  {
   "cell_type": "code",
   "execution_count": null,
   "id": "004610f3",
   "metadata": {},
   "outputs": [],
   "source": []
  }
 ],
 "metadata": {
  "accelerator": "TPU",
  "colab": {
   "provenance": []
  },
  "gpuClass": "standard",
  "kernelspec": {
   "display_name": "Python 3 (ipykernel)",
   "language": "python",
   "name": "python3"
  },
  "language_info": {
   "codemirror_mode": {
    "name": "ipython",
    "version": 3
   },
   "file_extension": ".py",
   "mimetype": "text/x-python",
   "name": "python",
   "nbconvert_exporter": "python",
   "pygments_lexer": "ipython3",
   "version": "3.10.9"
  }
 },
 "nbformat": 4,
 "nbformat_minor": 5
}
